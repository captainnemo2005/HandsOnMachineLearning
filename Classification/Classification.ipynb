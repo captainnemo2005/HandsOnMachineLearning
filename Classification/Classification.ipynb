{
 "cells": [
  {
   "cell_type": "code",
   "execution_count": 1,
   "metadata": {},
   "outputs": [],
   "source": [
    "## Creating our save_fig function and import some important dependencies.\n",
    "\n",
    "from __future__ import print_function, division, unicode_literals\n",
    "\n",
    "import numpy as np\n",
    "import os\n",
    "\n",
    "np.random.seed(42)\n",
    "\n",
    "%matplotlib inline\n",
    "\n",
    "import matplotlib as mpl\n",
    "import matplotlib.pyplot as plt\n",
    "\n",
    "mpl.rc('axes',labelsize=14)\n",
    "mpl.rc('xtick',labelsize=14)\n",
    "mpl.rc('ytick',labelsize=14)\n",
    "\n",
    "PROJECT_ROOT_DIR = r\"C:\\Users\\kngu0033\\Desktop\\MachineLearning\\HandsOnMachineLearningProj\"\n",
    "CHAPTER_ID = \"classification\"\n",
    "IMAGES_PATH = os.path.join(PROJECT_ROOT_DIR,\"images\",CHAPTER_ID)\n",
    "\n",
    "def save_fig(fig_id, tight_layout = True, fig_extension=\"png\", resolution = 300):\n",
    "    path = os.path.join(IMAGES_PATH,fig_id + \".\" + fig_extension)\n",
    "    print(\"Saving figure \",fig_id)\n",
    "    if tight_layout:\n",
    "        plt.tight_layout()\n",
    "    plt.savefig(path,format= fig_extension,dpi=resolution)\n",
    "    \n",
    "import warnings\n",
    "warnings.filterwarnings(action = \"ignore\",message=\"^internal gelsd\")"
   ]
  },
  {
   "cell_type": "markdown",
   "metadata": {},
   "source": [
    "# MNIST\n"
   ]
  },
  {
   "cell_type": "code",
   "execution_count": 2,
   "metadata": {},
   "outputs": [],
   "source": [
    "def sort_by_target(mnist):\n",
    "    reorder_train = np.array(sorted([(target,i) for i,target in enumerate(mnist.target[:60000])]))[:,1]\n",
    "    reorder_test = np.array(sorted([(target,i) for i,target in enumerate(mnist.target[60000:])]))[:,1]\n",
    "    mnist.data[:60000]   = mnist.data[reorder_train]\n",
    "    mnist.target[:60000] = mnist.target[reorder_train]\n",
    "    mnist.data[60000:]   = mnist.data[60000+reorder_test]    \n",
    "    mnist.target[60000:] = mnist.target[60000+reorder_test] "
   ]
  },
  {
   "cell_type": "code",
   "execution_count": 3,
   "metadata": {},
   "outputs": [
    {
     "data": {
      "text/plain": [
       "(array([[0., 0., 0., ..., 0., 0., 0.],\n",
       "        [0., 0., 0., ..., 0., 0., 0.],\n",
       "        [0., 0., 0., ..., 0., 0., 0.],\n",
       "        ...,\n",
       "        [0., 0., 0., ..., 0., 0., 0.],\n",
       "        [0., 0., 0., ..., 0., 0., 0.],\n",
       "        [0., 0., 0., ..., 0., 0., 0.]]),\n",
       " array([0, 0, 0, ..., 9, 9, 9], dtype=int8))"
      ]
     },
     "execution_count": 3,
     "metadata": {},
     "output_type": "execute_result"
    }
   ],
   "source": [
    "try:\n",
    "    from sklearn.datasets import fetch_openml\n",
    "    mnist = fetch_openml('mnist_784',version = 1 ,cache =True)\n",
    "    mnist.target = mnist.target.astype(np.int8)\n",
    "    sort_by_target(mnist)\n",
    "except ImportError:\n",
    "    from sklearn.datasets import fetch_openml\n",
    "    mnist = fetch_openml('MNIST original')\n",
    "mnist[\"data\"],mnist[\"target\"]"
   ]
  },
  {
   "cell_type": "code",
   "execution_count": 4,
   "metadata": {},
   "outputs": [
    {
     "data": {
      "text/plain": [
       "(70000, 784)"
      ]
     },
     "execution_count": 4,
     "metadata": {},
     "output_type": "execute_result"
    }
   ],
   "source": [
    "mnist.data.shape"
   ]
  },
  {
   "cell_type": "code",
   "execution_count": 5,
   "metadata": {},
   "outputs": [],
   "source": [
    "X = mnist[\"data\"]\n",
    "y = mnist[\"target\"]"
   ]
  },
  {
   "cell_type": "code",
   "execution_count": 6,
   "metadata": {},
   "outputs": [
    {
     "data": {
      "image/png": "[encoded data removed]",
      "text/plain": [
       "<Figure size 432x288 with 1 Axes>"
      ]
     },
     "metadata": {
      "needs_background": "light"
     },
     "output_type": "display_data"
    }
   ],
   "source": [
    "import matplotlib \n",
    "import matplotlib.pyplot as plt\n",
    "\n",
    "some_digit = X[36000]\n",
    "some_digit_image = some_digit.reshape(28,28)\n",
    "\n",
    "plt.imshow(some_digit_image,cmap  = matplotlib.cm.binary,\n",
    "          interpolation = \"nearest\")\n",
    "plt.show()"
   ]
  },
  {
   "cell_type": "code",
   "execution_count": 7,
   "metadata": {},
   "outputs": [
    {
     "data": {
      "text/plain": [
       "5"
      ]
     },
     "execution_count": 7,
     "metadata": {},
     "output_type": "execute_result"
    }
   ],
   "source": [
    "y[36000]"
   ]
  },
  {
   "cell_type": "code",
   "execution_count": 8,
   "metadata": {},
   "outputs": [],
   "source": [
    "X_train,X_test,y_train,y_test = X[:60000],X[60000:],y[:60000],y[60000:]\n"
   ]
  },
  {
   "cell_type": "code",
   "execution_count": 9,
   "metadata": {},
   "outputs": [],
   "source": [
    "import numpy as np\n",
    "\n",
    "shuffle_index = np.random.permutation(60000)\n",
    "X_train,y_train = X_train[shuffle_index],y_train[shuffle_index]"
   ]
  },
  {
   "cell_type": "code",
   "execution_count": 10,
   "metadata": {},
   "outputs": [],
   "source": [
    "def plot_digits(instances, images_per_row=10, **options):\n",
    "    size = 28\n",
    "    images_per_row = min(len(instances), images_per_row)\n",
    "    images = [instance.reshape(size,size) for instance in instances]\n",
    "    n_rows = (len(instances) - 1) // images_per_row + 1\n",
    "    row_images = []\n",
    "    n_empty = n_rows * images_per_row - len(instances)\n",
    "    images.append(np.zeros((size, size * n_empty)))\n",
    "    for row in range(n_rows):\n",
    "        rimages = images[row * images_per_row : (row + 1) * images_per_row]\n",
    "        row_images.append(np.concatenate(rimages, axis=1))\n",
    "    image = np.concatenate(row_images, axis=0)\n",
    "    plt.imshow(image, cmap = mpl.cm.binary, **options)\n",
    "    plt.axis(\"off\")"
   ]
  },
  {
   "cell_type": "code",
   "execution_count": 11,
   "metadata": {},
   "outputs": [
    {
     "name": "stdout",
     "output_type": "stream",
     "text": [
      "Saving figure  more_digits_plot\n"
     ]
    },
    {
     "data": {
      "image/png": "[encoded data removed]",
      "text/plain": [
       "<Figure size 648x648 with 1 Axes>"
      ]
     },
     "metadata": {
      "needs_background": "light"
     },
     "output_type": "display_data"
    }
   ],
   "source": [
    "plt.figure(figsize=(9,9))\n",
    "example_images = np.r_[X[:12000:600], X[13000:30600:600],X[30600:60000:590]]\n",
    "plot_digits(example_images,images_per_row = 10)\n",
    "save_fig(\"more_digits_plot\")\n",
    "plt.show()"
   ]
  },
  {
   "cell_type": "markdown",
   "metadata": {},
   "source": [
    "# Binary Classifier"
   ]
  },
  {
   "cell_type": "code",
   "execution_count": 12,
   "metadata": {},
   "outputs": [],
   "source": [
    "y_train_5 = (y_train == 5)\n",
    "y_test_5  = (y_test  == 5)"
   ]
  },
  {
   "cell_type": "code",
   "execution_count": 13,
   "metadata": {},
   "outputs": [
    {
     "data": {
      "text/plain": [
       "SGDClassifier(alpha=0.0001, average=False, class_weight=None,\n",
       "       early_stopping=False, epsilon=0.1, eta0=0.0, fit_intercept=True,\n",
       "       l1_ratio=0.15, learning_rate='optimal', loss='hinge', max_iter=5,\n",
       "       n_iter=None, n_iter_no_change=5, n_jobs=None, penalty='l2',\n",
       "       power_t=0.5, random_state=42, shuffle=True, tol=-inf,\n",
       "       validation_fraction=0.1, verbose=0, warm_start=False)"
      ]
     },
     "execution_count": 13,
     "metadata": {},
     "output_type": "execute_result"
    }
   ],
   "source": [
    "from sklearn.linear_model import SGDClassifier\n",
    "\n",
    "sgd_clf = SGDClassifier(max_iter = 5, tol = -np.infty , random_state = 42)\n",
    "sgd_clf.fit(X_train,y_train_5)"
   ]
  },
  {
   "cell_type": "code",
   "execution_count": 14,
   "metadata": {},
   "outputs": [
    {
     "data": {
      "text/plain": [
       "array([ True])"
      ]
     },
     "execution_count": 14,
     "metadata": {},
     "output_type": "execute_result"
    }
   ],
   "source": [
    "sgd_clf.predict([some_digit])"
   ]
  },
  {
   "cell_type": "code",
   "execution_count": 15,
   "metadata": {},
   "outputs": [
    {
     "data": {
      "text/plain": [
       "array([0.9502 , 0.96565, 0.96495])"
      ]
     },
     "execution_count": 15,
     "metadata": {},
     "output_type": "execute_result"
    }
   ],
   "source": [
    "from sklearn.model_selection import cross_val_score\n",
    "cross_val_score(sgd_clf,X_train,y_train_5 , cv = 3, scoring = \"accuracy\")"
   ]
  },
  {
   "cell_type": "code",
   "execution_count": 16,
   "metadata": {},
   "outputs": [
    {
     "name": "stdout",
     "output_type": "stream",
     "text": [
      "0.9502\n",
      "0.96565\n",
      "0.96495\n"
     ]
    }
   ],
   "source": [
    "from sklearn.model_selection import StratifiedKFold\n",
    "from sklearn.base import clone\n",
    "\n",
    "skfolds = StratifiedKFold(n_splits = 3, random_state = 42 )\n",
    "\n",
    "for train_index, test_index in skfolds.split(X_train,y_train_5):\n",
    "    clone_clf = clone(sgd_clf)\n",
    "    X_train_folds = X_train[train_index]\n",
    "    y_train_folds = y_train_5[train_index]\n",
    "    X_test_fold   = X_train[test_index]\n",
    "    y_test_fold   = y_train_5[test_index]\n",
    "    \n",
    "    clone_clf.fit(X_train_folds, y_train_folds)\n",
    "    y_pred = clone_clf.predict(X_test_fold)\n",
    "    n_correct = sum(y_pred == y_test_fold)\n",
    "    print(n_correct/len(y_pred))"
   ]
  },
  {
   "cell_type": "code",
   "execution_count": 17,
   "metadata": {},
   "outputs": [],
   "source": [
    "from sklearn.base import BaseEstimator\n",
    "class Never5Classifier(BaseEstimator):\n",
    "    def fit(self, X , y = None):\n",
    "        pass\n",
    "    def predict(self,X):\n",
    "        return np.zeros((len(X),1), dtype = bool)"
   ]
  },
  {
   "cell_type": "code",
   "execution_count": 18,
   "metadata": {},
   "outputs": [
    {
     "data": {
      "text/plain": [
       "array([0.10035, 0.097  , 0.0988 ])"
      ]
     },
     "execution_count": 18,
     "metadata": {},
     "output_type": "execute_result"
    }
   ],
   "source": [
    "never_5_clf = Never5Classifier()\n",
    "cross_val_score(never_5_clf, X_train, y_train , cv =3 , scoring = \"accuracy\")"
   ]
  },
  {
   "cell_type": "code",
   "execution_count": 19,
   "metadata": {},
   "outputs": [],
   "source": [
    "from sklearn.model_selection import cross_val_predict\n",
    "\n",
    "y_train_pred = cross_val_predict(sgd_clf, X_train, y_train_5, cv=3)"
   ]
  },
  {
   "cell_type": "code",
   "execution_count": 20,
   "metadata": {},
   "outputs": [
    {
     "data": {
      "text/plain": [
       "array([[53272,  1307],\n",
       "       [ 1077,  4344]], dtype=int64)"
      ]
     },
     "execution_count": 20,
     "metadata": {},
     "output_type": "execute_result"
    }
   ],
   "source": [
    "from sklearn.metrics import confusion_matrix\n",
    "\n",
    "confusion_matrix(y_train_5, y_train_pred)"
   ]
  },
  {
   "cell_type": "code",
   "execution_count": 21,
   "metadata": {},
   "outputs": [],
   "source": [
    "y_train_perfect_predictions = y_train_5"
   ]
  },
  {
   "cell_type": "code",
   "execution_count": 22,
   "metadata": {},
   "outputs": [
    {
     "data": {
      "text/plain": [
       "array([[54579,     0],\n",
       "       [    0,  5421]], dtype=int64)"
      ]
     },
     "execution_count": 22,
     "metadata": {},
     "output_type": "execute_result"
    }
   ],
   "source": [
    "confusion_matrix(y_train_5, y_train_perfect_predictions)"
   ]
  },
  {
   "cell_type": "code",
   "execution_count": 23,
   "metadata": {},
   "outputs": [
    {
     "data": {
      "text/plain": [
       "0.7687135020350381"
      ]
     },
     "execution_count": 23,
     "metadata": {},
     "output_type": "execute_result"
    }
   ],
   "source": [
    "from sklearn.metrics import precision_score, recall_score\n",
    "\n",
    "precision_score(y_train_5, y_train_pred)"
   ]
  },
  {
   "cell_type": "code",
   "execution_count": 24,
   "metadata": {},
   "outputs": [
    {
     "data": {
      "text/plain": [
       "0.801328168234643"
      ]
     },
     "execution_count": 24,
     "metadata": {},
     "output_type": "execute_result"
    }
   ],
   "source": [
    "recall_score(y_train_5, y_train_pred)"
   ]
  },
  {
   "cell_type": "code",
   "execution_count": 25,
   "metadata": {},
   "outputs": [
    {
     "data": {
      "text/plain": [
       "0.7846820809248555"
      ]
     },
     "execution_count": 25,
     "metadata": {},
     "output_type": "execute_result"
    }
   ],
   "source": [
    "from sklearn.metrics import f1_score\n",
    "f1_score(y_train_5, y_train_pred)"
   ]
  },
  {
   "cell_type": "code",
   "execution_count": 26,
   "metadata": {},
   "outputs": [
    {
     "data": {
      "text/plain": [
       "array([161855.74572176])"
      ]
     },
     "execution_count": 26,
     "metadata": {},
     "output_type": "execute_result"
    }
   ],
   "source": [
    "y_scores = sgd_clf.decision_function([some_digit])\n",
    "y_scores"
   ]
  },
  {
   "cell_type": "code",
   "execution_count": 27,
   "metadata": {},
   "outputs": [],
   "source": [
    "threshold = 0\n",
    "y_some_digit_pred = (y_scores > threshold)"
   ]
  },
  {
   "cell_type": "code",
   "execution_count": 28,
   "metadata": {},
   "outputs": [
    {
     "data": {
      "text/plain": [
       "array([ True])"
      ]
     },
     "execution_count": 28,
     "metadata": {},
     "output_type": "execute_result"
    }
   ],
   "source": [
    "y_some_digit_pred"
   ]
  },
  {
   "cell_type": "code",
   "execution_count": 29,
   "metadata": {},
   "outputs": [
    {
     "data": {
      "text/plain": [
       "array([False])"
      ]
     },
     "execution_count": 29,
     "metadata": {},
     "output_type": "execute_result"
    }
   ],
   "source": [
    "threshold = 200000\n",
    "y_some_digit_pred = (y_scores > threshold)\n",
    "y_some_digit_pred"
   ]
  },
  {
   "cell_type": "code",
   "execution_count": 30,
   "metadata": {},
   "outputs": [],
   "source": [
    "y_scores = cross_val_predict(sgd_clf, X_train, y_train_5, cv=3,\n",
    "                             method=\"decision_function\")"
   ]
  },
  {
   "cell_type": "code",
   "execution_count": 31,
   "metadata": {},
   "outputs": [
    {
     "data": {
      "text/plain": [
       "(60000,)"
      ]
     },
     "execution_count": 31,
     "metadata": {},
     "output_type": "execute_result"
    }
   ],
   "source": [
    "y_scores.shape"
   ]
  },
  {
   "cell_type": "code",
   "execution_count": 32,
   "metadata": {},
   "outputs": [],
   "source": [
    "# hack to work around issue #9589 in Scikit-Learn 0.19.0\n",
    "if y_scores.ndim == 2:\n",
    "    y_scores = y_scores[:, 1]"
   ]
  },
  {
   "cell_type": "code",
   "execution_count": 33,
   "metadata": {},
   "outputs": [],
   "source": [
    "from sklearn.metrics import precision_recall_curve\n",
    "\n",
    "precisions, recalls, thresholds = precision_recall_curve(y_train_5, y_scores)"
   ]
  },
  {
   "cell_type": "code",
   "execution_count": 34,
   "metadata": {},
   "outputs": [
    {
     "name": "stdout",
     "output_type": "stream",
     "text": [
      "Saving figure  precision_recall_vs_threshold_plot\n"
     ]
    },
    {
     "data": {
      "image/png": "[encoded data removed]",
      "text/plain": [
       "<Figure size 576x288 with 1 Axes>"
      ]
     },
     "metadata": {
      "needs_background": "light"
     },
     "output_type": "display_data"
    }
   ],
   "source": [
    "def plot_precision_recall_vs_threshold(precisions, recalls, thresholds):\n",
    "    plt.plot(thresholds, precisions[:-1], \"b--\", label=\"Precision\", linewidth=2)\n",
    "    plt.plot(thresholds, recalls[:-1], \"g-\", label=\"Recall\", linewidth=2)\n",
    "    plt.xlabel(\"Threshold\", fontsize=16)\n",
    "    plt.legend(loc=\"upper left\", fontsize=16)\n",
    "    plt.ylim([0, 1])\n",
    "\n",
    "plt.figure(figsize=(8, 4))\n",
    "plot_precision_recall_vs_threshold(precisions, recalls, thresholds)\n",
    "plt.xlim([-700000, 700000])\n",
    "save_fig(\"precision_recall_vs_threshold_plot\")\n",
    "plt.show()"
   ]
  },
  {
   "cell_type": "code",
   "execution_count": 35,
   "metadata": {},
   "outputs": [
    {
     "data": {
      "text/plain": [
       "True"
      ]
     },
     "execution_count": 35,
     "metadata": {},
     "output_type": "execute_result"
    }
   ],
   "source": [
    "(y_train_pred == (y_scores > 0)).all()"
   ]
  },
  {
   "cell_type": "code",
   "execution_count": 36,
   "metadata": {},
   "outputs": [],
   "source": [
    "y_train_pred_90 = (y_scores > 70000)"
   ]
  },
  {
   "cell_type": "code",
   "execution_count": 37,
   "metadata": {},
   "outputs": [
    {
     "data": {
      "text/plain": [
       "0.8659205116491548"
      ]
     },
     "execution_count": 37,
     "metadata": {},
     "output_type": "execute_result"
    }
   ],
   "source": [
    "precision_score(y_train_5, y_train_pred_90)"
   ]
  },
  {
   "cell_type": "code",
   "execution_count": 38,
   "metadata": {},
   "outputs": [
    {
     "data": {
      "text/plain": [
       "0.6993174691016417"
      ]
     },
     "execution_count": 38,
     "metadata": {},
     "output_type": "execute_result"
    }
   ],
   "source": [
    "recall_score(y_train_5, y_train_pred_90)"
   ]
  },
  {
   "cell_type": "code",
   "execution_count": 39,
   "metadata": {},
   "outputs": [
    {
     "name": "stdout",
     "output_type": "stream",
     "text": [
      "Saving figure  precision_vs_recall_plot\n"
     ]
    },
    {
     "data": {
      "image/png": "[encoded data removed]",
      "text/plain": [
       "<Figure size 576x432 with 1 Axes>"
      ]
     },
     "metadata": {
      "needs_background": "light"
     },
     "output_type": "display_data"
    }
   ],
   "source": [
    "def plot_precision_vs_recall(precisions, recalls):\n",
    "    plt.plot(recalls, precisions, \"b-\", linewidth=2)\n",
    "    plt.xlabel(\"Recall\", fontsize=16)\n",
    "    plt.ylabel(\"Precision\", fontsize=16)\n",
    "    plt.axis([0, 1, 0, 1])\n",
    "\n",
    "plt.figure(figsize=(8, 6))\n",
    "plot_precision_vs_recall(precisions, recalls)\n",
    "save_fig(\"precision_vs_recall_plot\")\n",
    "plt.show()"
   ]
  },
  {
   "cell_type": "markdown",
   "metadata": {},
   "source": [
    "# ROC curves"
   ]
  },
  {
   "cell_type": "code",
   "execution_count": 40,
   "metadata": {},
   "outputs": [],
   "source": [
    "from sklearn.metrics import roc_curve\n",
    "\n",
    "fpr, tpr, thresholds = roc_curve(y_train_5, y_scores)"
   ]
  },
  {
   "cell_type": "code",
   "execution_count": 41,
   "metadata": {},
   "outputs": [
    {
     "name": "stdout",
     "output_type": "stream",
     "text": [
      "Saving figure  roc_curve_plot\n"
     ]
    },
    {
     "data": {
      "image/png": "[encoded data removed]",
      "text/plain": [
       "<Figure size 576x432 with 1 Axes>"
      ]
     },
     "metadata": {
      "needs_background": "light"
     },
     "output_type": "display_data"
    }
   ],
   "source": [
    "def plot_roc_curve(fpr,tpr,label = None):\n",
    "    plt.plot(fpr,tpr,linewidth=2,label=label)\n",
    "    plt.plot([0,1],[0,1],'k--')\n",
    "    plt.axis([0,1,0,1])\n",
    "    plt.xlabel('False Positive Rate', fontsize = 16)\n",
    "    plt.ylabel('True Positive Rate', fontsize = 16)\n",
    "    \n",
    "plt.figure(figsize =(8,6))\n",
    "plot_roc_curve(fpr,tpr)\n",
    "save_fig(\"roc_curve_plot\")\n",
    "plt.show()"
   ]
  },
  {
   "cell_type": "code",
   "execution_count": 42,
   "metadata": {},
   "outputs": [
    {
     "data": {
      "text/plain": [
       "0.9624496555967156"
      ]
     },
     "execution_count": 42,
     "metadata": {},
     "output_type": "execute_result"
    }
   ],
   "source": [
    "from sklearn.metrics import roc_auc_score\n",
    "\n",
    "roc_auc_score(y_train_5, y_scores)"
   ]
  },
  {
   "cell_type": "code",
   "execution_count": 43,
   "metadata": {},
   "outputs": [],
   "source": [
    "from sklearn.ensemble import RandomForestClassifier\n",
    "forest_clf = RandomForestClassifier(n_estimators=10, random_state=42)\n",
    "y_probas_forest = cross_val_predict(forest_clf, X_train, y_train_5, cv=3,\n",
    "                                    method=\"predict_proba\")"
   ]
  },
  {
   "cell_type": "code",
   "execution_count": 44,
   "metadata": {},
   "outputs": [],
   "source": [
    "y_scores_forest = y_probas_forest[:, 1] # score = proba of positive class\n",
    "fpr_forest, tpr_forest, thresholds_forest = roc_curve(y_train_5,y_scores_forest)"
   ]
  },
  {
   "cell_type": "code",
   "execution_count": 45,
   "metadata": {},
   "outputs": [
    {
     "name": "stdout",
     "output_type": "stream",
     "text": [
      "Saving figure  roc_curve_comparison_plot\n"
     ]
    },
    {
     "data": {
      "image/png": "[encoded data removed]",
      "text/plain": [
       "<Figure size 576x432 with 1 Axes>"
      ]
     },
     "metadata": {
      "needs_background": "light"
     },
     "output_type": "display_data"
    }
   ],
   "source": [
    "plt.figure(figsize=(8, 6))\n",
    "plt.plot(fpr, tpr, \"b:\", linewidth=2, label=\"SGD\")\n",
    "plot_roc_curve(fpr_forest, tpr_forest, \"Random Forest\")\n",
    "plt.legend(loc=\"lower right\", fontsize=16)\n",
    "save_fig(\"roc_curve_comparison_plot\")\n",
    "plt.show()"
   ]
  },
  {
   "cell_type": "code",
   "execution_count": 46,
   "metadata": {},
   "outputs": [
    {
     "data": {
      "text/plain": [
       "0.9931243366003829"
      ]
     },
     "execution_count": 46,
     "metadata": {},
     "output_type": "execute_result"
    }
   ],
   "source": [
    "roc_auc_score(y_train_5, y_scores_forest)"
   ]
  },
  {
   "cell_type": "code",
   "execution_count": 47,
   "metadata": {},
   "outputs": [
    {
     "data": {
      "text/plain": [
       "0.9852973447443494"
      ]
     },
     "execution_count": 47,
     "metadata": {},
     "output_type": "execute_result"
    }
   ],
   "source": [
    "y_train_pred_forest = cross_val_predict(forest_clf, X_train, y_train_5, cv=3)\n",
    "precision_score(y_train_5, y_train_pred_forest)"
   ]
  },
  {
   "cell_type": "code",
   "execution_count": 48,
   "metadata": {},
   "outputs": [
    {
     "data": {
      "text/plain": [
       "0.8282604685482383"
      ]
     },
     "execution_count": 48,
     "metadata": {},
     "output_type": "execute_result"
    }
   ],
   "source": [
    "recall_score(y_train_5, y_train_pred_forest)"
   ]
  },
  {
   "cell_type": "markdown",
   "metadata": {},
   "source": [
    "# multiclass Classification"
   ]
  },
  {
   "cell_type": "code",
   "execution_count": 49,
   "metadata": {},
   "outputs": [
    {
     "data": {
      "text/plain": [
       "array([5], dtype=int8)"
      ]
     },
     "execution_count": 49,
     "metadata": {},
     "output_type": "execute_result"
    }
   ],
   "source": [
    "sgd_clf.fit(X_train, y_train)\n",
    "sgd_clf.predict([some_digit])"
   ]
  },
  {
   "cell_type": "code",
   "execution_count": 50,
   "metadata": {},
   "outputs": [
    {
     "data": {
      "text/plain": [
       "'\\nWe can see that classifier create 10 classifiers in the out 94\\n'"
      ]
     },
     "execution_count": 50,
     "metadata": {},
     "output_type": "execute_result"
    }
   ],
   "source": [
    "\"\"\"\n",
    "We can see that classifier create 10 classifiers in the out 94\n",
    "\"\"\""
   ]
  },
  {
   "cell_type": "code",
   "execution_count": 51,
   "metadata": {},
   "outputs": [
    {
     "data": {
      "text/plain": [
       "array([[-311402.62954431, -363517.28355739, -446449.5306454 ,\n",
       "        -183226.61023518, -414337.15339485,  161855.74572176,\n",
       "        -452576.39616343, -471957.14962573, -518542.33997148,\n",
       "        -536774.63961222]])"
      ]
     },
     "execution_count": 51,
     "metadata": {},
     "output_type": "execute_result"
    }
   ],
   "source": [
    "some_digit_scores = sgd_clf.decision_function([some_digit])\n",
    "some_digit_scores "
   ]
  },
  {
   "cell_type": "code",
   "execution_count": 52,
   "metadata": {},
   "outputs": [
    {
     "data": {
      "text/plain": [
       "5"
      ]
     },
     "execution_count": 52,
     "metadata": {},
     "output_type": "execute_result"
    }
   ],
   "source": [
    "np.argmax(some_digit_scores)"
   ]
  },
  {
   "cell_type": "code",
   "execution_count": 53,
   "metadata": {},
   "outputs": [
    {
     "data": {
      "text/plain": [
       "array([0, 1, 2, 3, 4, 5, 6, 7, 8, 9], dtype=int8)"
      ]
     },
     "execution_count": 53,
     "metadata": {},
     "output_type": "execute_result"
    }
   ],
   "source": [
    "sgd_clf.classes_"
   ]
  },
  {
   "cell_type": "code",
   "execution_count": 54,
   "metadata": {},
   "outputs": [
    {
     "data": {
      "text/plain": [
       "5"
      ]
     },
     "execution_count": 54,
     "metadata": {},
     "output_type": "execute_result"
    }
   ],
   "source": [
    "sgd_clf.classes_[5]"
   ]
  },
  {
   "cell_type": "code",
   "execution_count": 55,
   "metadata": {},
   "outputs": [
    {
     "data": {
      "text/plain": [
       "array([5], dtype=int8)"
      ]
     },
     "execution_count": 55,
     "metadata": {},
     "output_type": "execute_result"
    }
   ],
   "source": [
    "#Now we try to create a onevsoneclassifier\n",
    "from sklearn.multiclass import OneVsOneClassifier\n",
    "ovo_clf = OneVsOneClassifier(SGDClassifier(max_iter = 5, tol = -np.infty, random_state=42))\n",
    "ovo_clf.fit(X_train,y_train)\n",
    "ovo_clf.predict([some_digit])"
   ]
  },
  {
   "cell_type": "code",
   "execution_count": 56,
   "metadata": {},
   "outputs": [
    {
     "data": {
      "text/plain": [
       "45"
      ]
     },
     "execution_count": 56,
     "metadata": {},
     "output_type": "execute_result"
    }
   ],
   "source": [
    "len(ovo_clf.estimators_)"
   ]
  },
  {
   "cell_type": "code",
   "execution_count": 57,
   "metadata": {},
   "outputs": [
    {
     "data": {
      "text/plain": [
       "array([5], dtype=int8)"
      ]
     },
     "execution_count": 57,
     "metadata": {},
     "output_type": "execute_result"
    }
   ],
   "source": [
    "forest_clf.fit(X_train,y_train)\n",
    "forest_clf.predict([some_digit])"
   ]
  },
  {
   "cell_type": "code",
   "execution_count": 58,
   "metadata": {},
   "outputs": [
    {
     "data": {
      "text/plain": [
       "array([[0.1, 0. , 0. , 0.1, 0. , 0.8, 0. , 0. , 0. , 0. ]])"
      ]
     },
     "execution_count": 58,
     "metadata": {},
     "output_type": "execute_result"
    }
   ],
   "source": [
    "forest_clf.predict_proba([some_digit])"
   ]
  },
  {
   "cell_type": "code",
   "execution_count": 59,
   "metadata": {},
   "outputs": [
    {
     "data": {
      "text/plain": [
       "array([0.84063187, 0.84899245, 0.86652998])"
      ]
     },
     "execution_count": 59,
     "metadata": {},
     "output_type": "execute_result"
    }
   ],
   "source": [
    "cross_val_score(sgd_clf,X_train,y_train,cv = 3 , scoring = \"accuracy\")"
   ]
  },
  {
   "cell_type": "code",
   "execution_count": 60,
   "metadata": {},
   "outputs": [
    {
     "data": {
      "text/plain": [
       "array([0.91011798, 0.90874544, 0.906636  ])"
      ]
     },
     "execution_count": 60,
     "metadata": {},
     "output_type": "execute_result"
    }
   ],
   "source": [
    "from sklearn.preprocessing import StandardScaler\n",
    "scaler = StandardScaler()\n",
    "X_train_scaled = scaler.fit_transform(X_train.astype(np.float64))\n",
    "cross_val_score(sgd_clf,X_train_scaled,y_train,cv=3,scoring=\"accuracy\")"
   ]
  },
  {
   "cell_type": "markdown",
   "metadata": {},
   "source": [
    "# Error Analysis"
   ]
  },
  {
   "cell_type": "code",
   "execution_count": 61,
   "metadata": {},
   "outputs": [
    {
     "data": {
      "text/plain": [
       "array([[5725,    3,   24,    9,   10,   49,   50,   10,   39,    4],\n",
       "       [   2, 6493,   43,   25,    7,   40,    5,   10,  109,    8],\n",
       "       [  51,   41, 5321,  104,   89,   26,   87,   60,  166,   13],\n",
       "       [  47,   46,  141, 5342,    1,  231,   40,   50,  141,   92],\n",
       "       [  19,   29,   41,   10, 5366,    9,   56,   37,   86,  189],\n",
       "       [  73,   45,   36,  193,   64, 4582,  111,   30,  193,   94],\n",
       "       [  29,   34,   44,    2,   42,   85, 5627,   10,   45,    0],\n",
       "       [  25,   24,   74,   32,   54,   12,    6, 5787,   15,  236],\n",
       "       [  52,  161,   73,  156,   10,  163,   61,   25, 5027,  123],\n",
       "       [  43,   35,   26,   92,  178,   28,    2,  223,   82, 5240]],\n",
       "      dtype=int64)"
      ]
     },
     "execution_count": 61,
     "metadata": {},
     "output_type": "execute_result"
    }
   ],
   "source": [
    "y_train_pred = cross_val_predict(sgd_clf,X_train_scaled,y_train,cv=3)\n",
    "conf_mx = confusion_matrix(y_train,y_train_pred)\n",
    "conf_mx"
   ]
  },
  {
   "cell_type": "code",
   "execution_count": 62,
   "metadata": {},
   "outputs": [],
   "source": [
    "def plot_confusion_matrix(matrix):\n",
    "    fig = plt.figure(figsize=(8,8))\n",
    "    ax = fig.add_subplot(111)\n",
    "    cax = ax.matshow(matrix)\n",
    "    fig.colorbar(cax)"
   ]
  },
  {
   "cell_type": "code",
   "execution_count": 63,
   "metadata": {},
   "outputs": [
    {
     "name": "stdout",
     "output_type": "stream",
     "text": [
      "Saving figure  confusion_matrix_plot\n"
     ]
    },
    {
     "data": {
      "image/png": "[encoded data removed]",
      "text/plain": [
       "<Figure size 288x288 with 1 Axes>"
      ]
     },
     "metadata": {
      "needs_background": "light"
     },
     "output_type": "display_data"
    }
   ],
   "source": [
    "plt.matshow(conf_mx,cmap = plt.cm.gray)\n",
    "save_fig(\"confusion_matrix_plot\",tight_layout = False)\n",
    "plt.show()"
   ]
  },
  {
   "cell_type": "code",
   "execution_count": 64,
   "metadata": {},
   "outputs": [],
   "source": [
    "row_sums = conf_mx.sum(axis=1,keepdims=True)\n",
    "norm_conf_mx = conf_mx/row_sums"
   ]
  },
  {
   "cell_type": "code",
   "execution_count": 65,
   "metadata": {},
   "outputs": [
    {
     "name": "stdout",
     "output_type": "stream",
     "text": [
      "Saving figure  confusion_matrix_errors_plot\n"
     ]
    },
    {
     "data": {
      "image/png": "[encoded data removed]",
      "text/plain": [
       "<Figure size 288x288 with 1 Axes>"
      ]
     },
     "metadata": {
      "needs_background": "light"
     },
     "output_type": "display_data"
    }
   ],
   "source": [
    "np.fill_diagonal(norm_conf_mx,0)\n",
    "plt.matshow(norm_conf_mx,cmap=plt.cm.gray)\n",
    "save_fig(\"confusion_matrix_errors_plot\",tight_layout = False)\n",
    "plt.show()"
   ]
  },
  {
   "cell_type": "code",
   "execution_count": 66,
   "metadata": {},
   "outputs": [
    {
     "name": "stdout",
     "output_type": "stream",
     "text": [
      "Saving figure  error_analysis_digits_plot\n"
     ]
    },
    {
     "data": {
      "image/png": "[encoded data removed]",
      "text/plain": [
       "<Figure size 576x576 with 4 Axes>"
      ]
     },
     "metadata": {
      "needs_background": "light"
     },
     "output_type": "display_data"
    }
   ],
   "source": [
    "cl_a , cl_b = 3,5\n",
    "X_aa = X_train[(y_train == cl_a) & (y_train_pred == cl_a)]\n",
    "X_ab = X_train[(y_train == cl_a) & (y_train_pred == cl_b)]\n",
    "X_ba = X_train[(y_train == cl_b) & (y_train_pred == cl_a)]\n",
    "X_bb = X_train[(y_train == cl_b) & (y_train_pred == cl_b)]\n",
    "\n",
    "plt.figure(figsize=(8,8))\n",
    "plt.subplot(221); plot_digits(X_aa[:25], images_per_row=5)\n",
    "plt.subplot(222); plot_digits(X_ab[:25], images_per_row=5)\n",
    "plt.subplot(223); plot_digits(X_ba[:25], images_per_row=5)\n",
    "plt.subplot(224); plot_digits(X_bb[:25], images_per_row=5)\n",
    "save_fig(\"error_analysis_digits_plot\")\n",
    "plt.show()"
   ]
  },
  {
   "cell_type": "markdown",
   "metadata": {},
   "source": [
    "# Multilabel Classification"
   ]
  },
  {
   "cell_type": "code",
   "execution_count": 67,
   "metadata": {},
   "outputs": [
    {
     "data": {
      "text/plain": [
       "KNeighborsClassifier(algorithm='auto', leaf_size=30, metric='minkowski',\n",
       "           metric_params=None, n_jobs=None, n_neighbors=5, p=2,\n",
       "           weights='uniform')"
      ]
     },
     "execution_count": 67,
     "metadata": {},
     "output_type": "execute_result"
    }
   ],
   "source": [
    "from sklearn.neighbors import KNeighborsClassifier\n",
    "\n",
    "y_train_large = y_train>=7\n",
    "y_train_odd   = y_train%2==1\n",
    "y_multilabel  = np.c_[y_train_large,y_train_odd]\n",
    "\n",
    "knn_clf = KNeighborsClassifier()\n",
    "knn_clf.fit(X_train,y_multilabel)"
   ]
  },
  {
   "cell_type": "code",
   "execution_count": 68,
   "metadata": {},
   "outputs": [
    {
     "data": {
      "text/plain": [
       "array([[False,  True]])"
      ]
     },
     "execution_count": 68,
     "metadata": {},
     "output_type": "execute_result"
    }
   ],
   "source": [
    "knn_clf.predict([some_digit])"
   ]
  },
  {
   "cell_type": "markdown",
   "metadata": {},
   "source": [
    "# Multioutput classification"
   ]
  },
  {
   "cell_type": "code",
   "execution_count": 69,
   "metadata": {},
   "outputs": [],
   "source": [
    "noise = np.random.randint(0, 100, (len(X_train), 784))\n",
    "X_train_mod = X_train + noise\n",
    "noise = np.random.randint(0, 100, (len(X_test), 784))\n",
    "X_test_mod = X_test + noise\n",
    "y_train_mod = X_train\n",
    "y_test_mod = X_test"
   ]
  },
  {
   "cell_type": "code",
   "execution_count": 86,
   "metadata": {},
   "outputs": [],
   "source": [
    "def plot_digit(data):\n",
    "    image = data.reshape(28,28)\n",
    "    plt.imshow(image, cmap = mpl.cm.binary,\n",
    "              interpolation = \"nearest\")\n",
    "    plt.axis(\"off\")"
   ]
  },
  {
   "cell_type": "code",
   "execution_count": 87,
   "metadata": {},
   "outputs": [
    {
     "name": "stdout",
     "output_type": "stream",
     "text": [
      "Saving figure  noisy_digit_example_plot\n"
     ]
    },
    {
     "data": {
      "image/png": "[encoded data removed]",
      "text/plain": [
       "<Figure size 432x288 with 2 Axes>"
      ]
     },
     "metadata": {
      "needs_background": "light"
     },
     "output_type": "display_data"
    }
   ],
   "source": [
    "some_index = 5500\n",
    "plt.subplot(121); plot_digit(X_test_mod[some_index])\n",
    "plt.subplot(122); plot_digit(y_test_mod[some_index])\n",
    "save_fig(\"noisy_digit_example_plot\")\n",
    "plt.show()"
   ]
  },
  {
   "cell_type": "code",
   "execution_count": 71,
   "metadata": {},
   "outputs": [
    {
     "name": "stdout",
     "output_type": "stream",
     "text": [
      "Saving figure  cleaned_digit_example_plot\n"
     ]
    },
    {
     "data": {
      "image/png": "[encoded data removed]",
      "text/plain": [
       "<Figure size 432x288 with 1 Axes>"
      ]
     },
     "metadata": {
      "needs_background": "light"
     },
     "output_type": "display_data"
    }
   ],
   "source": [
    "knn_clf.fit(X_train_mod, y_train_mod)\n",
    "clean_digit = knn_clf.predict([X_test_mod[some_index]])\n",
    "plot_digits(clean_digit)\n",
    "save_fig(\"cleaned_digit_example_plot\")"
   ]
  },
  {
   "cell_type": "markdown",
   "metadata": {},
   "source": [
    "# Extra Material"
   ]
  },
  {
   "cell_type": "code",
   "execution_count": 72,
   "metadata": {},
   "outputs": [],
   "source": [
    "from sklearn.dummy import DummyClassifier\n",
    "dmy_clf = DummyClassifier()\n",
    "y_probas_dmy = cross_val_predict(dmy_clf,X_train,y_train_5,cv=3,method = \"predict_proba\")\n",
    "y_scores_dmy = y_probas_dmy[:,1]"
   ]
  },
  {
   "cell_type": "code",
   "execution_count": 73,
   "metadata": {},
   "outputs": [
    {
     "data": {
      "text/plain": [
       "array([0, 0, 0, ..., 1, 1, 1])"
      ]
     },
     "execution_count": 73,
     "metadata": {},
     "output_type": "execute_result"
    }
   ],
   "source": [
    "y_scores_dmy"
   ]
  },
  {
   "cell_type": "code",
   "execution_count": 74,
   "metadata": {},
   "outputs": [
    {
     "data": {
      "image/png": "[encoded data removed]",
      "text/plain": [
       "<Figure size 432x288 with 1 Axes>"
      ]
     },
     "metadata": {
      "needs_background": "light"
     },
     "output_type": "display_data"
    }
   ],
   "source": [
    "fprr, tprr, thresholdsr = roc_curve(y_train_5, y_scores_dmy)\n",
    "plot_roc_curve(fprr, tprr)"
   ]
  },
  {
   "cell_type": "markdown",
   "metadata": {},
   "source": [
    "# KNN classifier "
   ]
  },
  {
   "cell_type": "code",
   "execution_count": 75,
   "metadata": {},
   "outputs": [
    {
     "data": {
      "text/plain": [
       "KNeighborsClassifier(algorithm='auto', leaf_size=30, metric='minkowski',\n",
       "           metric_params=None, n_jobs=-1, n_neighbors=4, p=2,\n",
       "           weights='distance')"
      ]
     },
     "execution_count": 75,
     "metadata": {},
     "output_type": "execute_result"
    }
   ],
   "source": [
    "from sklearn.neighbors import KNeighborsClassifier\n",
    "knn_clf = KNeighborsClassifier(n_jobs =-1 , weights = 'distance',n_neighbors=4)\n",
    "knn_clf.fit(X_train,y_train)"
   ]
  },
  {
   "cell_type": "code",
   "execution_count": 76,
   "metadata": {},
   "outputs": [],
   "source": [
    "y_knn_pred = knn_clf.predict(X_test)"
   ]
  },
  {
   "cell_type": "code",
   "execution_count": 77,
   "metadata": {},
   "outputs": [
    {
     "data": {
      "text/plain": [
       "0.9714"
      ]
     },
     "execution_count": 77,
     "metadata": {},
     "output_type": "execute_result"
    }
   ],
   "source": [
    "from sklearn.metrics import accuracy_score\n",
    "accuracy_score(y_test,y_knn_pred)"
   ]
  },
  {
   "cell_type": "code",
   "execution_count": 88,
   "metadata": {},
   "outputs": [
    {
     "data": {
      "image/png": "[encoded data removed]",
      "text/plain": [
       "<Figure size 432x288 with 1 Axes>"
      ]
     },
     "metadata": {
      "needs_background": "light"
     },
     "output_type": "display_data"
    }
   ],
   "source": [
    "from scipy.ndimage.interpolation import shift\n",
    "def shift_digit(digit_array, dx, dy, new=0):\n",
    "    return shift(digit_array.reshape(28, 28), [dy, dx], cval=new).reshape(784)\n",
    "\n",
    "plot_digit(shift_digit(some_digit, 5, 1, new=100))"
   ]
  },
  {
   "cell_type": "code",
   "execution_count": 89,
   "metadata": {},
   "outputs": [
    {
     "data": {
      "text/plain": [
       "((300000, 784), (300000,))"
      ]
     },
     "execution_count": 89,
     "metadata": {},
     "output_type": "execute_result"
    }
   ],
   "source": [
    "X_train_expanded = [X_train]\n",
    "y_train_expanded = [y_train]\n",
    "for dx, dy in ((1, 0), (-1, 0), (0, 1), (0, -1)):\n",
    "    shifted_images = np.apply_along_axis(shift_digit, axis=1, arr=X_train, dx=dx, dy=dy)\n",
    "    X_train_expanded.append(shifted_images)\n",
    "    y_train_expanded.append(y_train)\n",
    "\n",
    "X_train_expanded = np.concatenate(X_train_expanded)\n",
    "y_train_expanded = np.concatenate(y_train_expanded)\n",
    "X_train_expanded.shape, y_train_expanded.shape"
   ]
  },
  {
   "cell_type": "markdown",
   "metadata": {},
   "source": [
    "# Excercise solution"
   ]
  },
  {
   "cell_type": "markdown",
   "metadata": {},
   "source": [
    "## Ex1: AN MINST classifier with over 97% accuracy"
   ]
  },
  {
   "cell_type": "code",
   "execution_count": null,
   "metadata": {},
   "outputs": [
    {
     "name": "stdout",
     "output_type": "stream",
     "text": [
      "Fitting 5 folds for each of 6 candidates, totalling 30 fits\n"
     ]
    },
    {
     "name": "stderr",
     "output_type": "stream",
     "text": [
      "[Parallel(n_jobs=-1)]: Using backend LokyBackend with 12 concurrent workers.\n"
     ]
    }
   ],
   "source": [
    "from sklearn.model_selection import GridSearchCV\n",
    "\n",
    "param_grid = [{'weights' : [\"uniform\",\"distance\"], 'n_neighbors':[3,4,5]}]\n",
    "\n",
    "knn_clf = KNeighborsClassifier()\n",
    "grid_search = GridSearchCV(knn_clf,param_grid,cv=5,verbose = 3,n_jobs = -1)\n",
    "grid_search.fit(X_train,y_train)"
   ]
  },
  {
   "cell_type": "code",
   "execution_count": 81,
   "metadata": {},
   "outputs": [
    {
     "ename": "SyntaxError",
     "evalue": "invalid syntax (<ipython-input-81-85cb24f1765d>, line 1)",
     "output_type": "error",
     "traceback": [
      "\u001b[1;36m  File \u001b[1;32m\"<ipython-input-81-85cb24f1765d>\"\u001b[1;36m, line \u001b[1;32m1\u001b[0m\n\u001b[1;33m    print()}\u001b[0m\n\u001b[1;37m           ^\u001b[0m\n\u001b[1;31mSyntaxError\u001b[0m\u001b[1;31m:\u001b[0m invalid syntax\n"
     ]
    }
   ],
   "source": []
  },
  {
   "cell_type": "markdown",
   "metadata": {},
   "source": [
    "# Data Augmentation"
   ]
  },
  {
   "cell_type": "code",
   "execution_count": 96,
   "metadata": {},
   "outputs": [],
   "source": [
    "\"\"\"\n",
    "Write a function that can shift an MNIST image in any direction (left,\n",
    "right, up, or down) by one pixel.5 Then, for each image in the training\n",
    "set, create four shifted copies (one per direction) and add them to the\n",
    "training set. Finally, train your best model on this expanded training set\n",
    "and measure its accuracy on the test set. You should observe that your\n",
    "model performs even better now! This technique of artificially growing\n",
    "the training set is called data augmentation or training set expansion\n",
    "\"\"\"\n",
    "from scipy.ndimage.interpolation import shift\n",
    "\n",
    "#define the shifting function\n",
    "\n",
    "def shift_image(data,dx,dy):\n",
    "    image         = data.reshape(28,28)\n",
    "    shifted_image = shift(image,[dy , dx])\n",
    "    return shifted_image.reshape([-1])"
   ]
  },
  {
   "cell_type": "code",
   "execution_count": 102,
   "metadata": {},
   "outputs": [
    {
     "data": {
      "text/plain": [
       "<matplotlib.image.AxesImage at 0x2500195df60>"
      ]
     },
     "execution_count": 102,
     "metadata": {},
     "output_type": "execute_result"
    },
    {
     "data": {
      "image/png": "[encoded data removed]",
      "text/plain": [
       "<Figure size 864x216 with 3 Axes>"
      ]
     },
     "metadata": {
      "needs_background": "light"
     },
     "output_type": "display_data"
    }
   ],
   "source": [
    "image = X_train[1000]\n",
    "shifted_image_down = shift_image(image,0,5)\n",
    "shifted_image_left = shift_image(image,-5,0)\n",
    "\n",
    "plt.figure(figsize=(12,3))\n",
    "plt.subplot(131)\n",
    "plt.title(\"Original\", fontsize=  14)\n",
    "plt.imshow(image.reshape(28,28) , interpolation = \"nearest\", cmap=\"Greys\")\n",
    "\n",
    "plt.subplot(132)\n",
    "plt.title(\"Shifted down\",fontsize=  14)\n",
    "plt.imshow(shifted_image_down.reshape(28,28) , interpolation = \"nearest\", cmap=\"Greys\")\n",
    "\n",
    "plt.subplot(133)\n",
    "plt.title(\"Shifted left\", fontsize=  14)\n",
    "plt.imshow(shifted_image_left.reshape(28,28) , interpolation = \"nearest\", cmap=\"Greys\")"
   ]
  },
  {
   "cell_type": "code",
   "execution_count": 121,
   "metadata": {},
   "outputs": [],
   "source": [
    "# Now creating for each picture in X_train \n",
    "# creating 4 pictures for each direction\n",
    "\n",
    "X_train_augmented = [image for image in X_train]\n",
    "y_train_augmented = [label for label in y_train]\n",
    "\n",
    "for dx,dy in ((1,0),(-1,0),(0,1),(0,-1)):\n",
    "    for image,label in zip(X_train,y_train):\n",
    "        X_train_augmented.append(shift_image(image,dx,dy)) \n",
    "        y_train_augmented.append(label)\n"
   ]
  },
  {
   "cell_type": "code",
   "execution_count": 116,
   "metadata": {},
   "outputs": [],
   "source": [
    "X_train_augmented = np.array(X_train_augmented)\n",
    "y_train_augmented = np.array(y_train_augmented)"
   ]
  },
  {
   "cell_type": "code",
   "execution_count": 117,
   "metadata": {},
   "outputs": [
    {
     "data": {
      "text/plain": [
       "(300000,)"
      ]
     },
     "execution_count": 117,
     "metadata": {},
     "output_type": "execute_result"
    }
   ],
   "source": [
    "y_train_augmented.shape"
   ]
  },
  {
   "cell_type": "code",
   "execution_count": 114,
   "metadata": {},
   "outputs": [],
   "source": [
    "shuffle_idx = np.random.permutation(len(X_train_augmented))\n"
   ]
  },
  {
   "cell_type": "code",
   "execution_count": 118,
   "metadata": {},
   "outputs": [],
   "source": [
    "X_train_augmented = X_train_augmented[shuffle_idx]\n",
    "y_train_augmented = y_train_augmented[shuffle_idx]"
   ]
  },
  {
   "cell_type": "code",
   "execution_count": 122,
   "metadata": {},
   "outputs": [],
   "source": [
    "knn_clf = KNeighborsClassifier(n_neighbors= 4, weights= 'distance')"
   ]
  },
  {
   "cell_type": "code",
   "execution_count": 123,
   "metadata": {},
   "outputs": [
    {
     "data": {
      "text/plain": [
       "KNeighborsClassifier(algorithm='auto', leaf_size=30, metric='minkowski',\n",
       "           metric_params=None, n_jobs=None, n_neighbors=4, p=2,\n",
       "           weights='distance')"
      ]
     },
     "execution_count": 123,
     "metadata": {},
     "output_type": "execute_result"
    }
   ],
   "source": [
    "knn_clf.fit(X_train_augmented,y_train_augmented)"
   ]
  },
  {
   "cell_type": "code",
   "execution_count": 124,
   "metadata": {},
   "outputs": [
    {
     "data": {
      "text/plain": [
       "0.9763"
      ]
     },
     "execution_count": 124,
     "metadata": {},
     "output_type": "execute_result"
    }
   ],
   "source": [
    "y_pred = knn_clf.predict(X_test)\n",
    "accuracy_score(y_test,y_pred)"
   ]
  },
  {
   "cell_type": "markdown",
   "metadata": {},
   "source": [
    "# Excercise 3:\n",
    "# Tackle the Titanic Dataset to make some prediction"
   ]
  },
  {
   "cell_type": "code",
   "execution_count": 126,
   "metadata": {},
   "outputs": [],
   "source": [
    "import pandas as pd\n",
    "\n",
    "train_data = pd.read_csv(\"train.csv\")\n",
    "test_data  = pd.read_csv(\"test.csv\")\n"
   ]
  },
  {
   "cell_type": "code",
   "execution_count": 130,
   "metadata": {},
   "outputs": [
    {
     "name": "stdout",
     "output_type": "stream",
     "text": [
      "<class 'pandas.core.frame.DataFrame'>\n",
      "RangeIndex: 891 entries, 0 to 890\n",
      "Data columns (total 12 columns):\n",
      "PassengerId    891 non-null int64\n",
      "Survived       891 non-null int64\n",
      "Pclass         891 non-null int64\n",
      "Name           891 non-null object\n",
      "Sex            891 non-null object\n",
      "Age            714 non-null float64\n",
      "SibSp          891 non-null int64\n",
      "Parch          891 non-null int64\n",
      "Ticket         891 non-null object\n",
      "Fare           891 non-null float64\n",
      "Cabin          204 non-null object\n",
      "Embarked       889 non-null object\n",
      "dtypes: float64(2), int64(5), object(5)\n",
      "memory usage: 83.6+ KB\n"
     ]
    }
   ],
   "source": [
    "train_data.info()"
   ]
  },
  {
   "cell_type": "code",
   "execution_count": 128,
   "metadata": {},
   "outputs": [],
   "source": [
    "train_labels = train_data[\"Survived\"]"
   ]
  },
  {
   "cell_type": "code",
   "execution_count": 164,
   "metadata": {},
   "outputs": [
    {
     "data": {
      "text/plain": [
       "S    644\n",
       "C    168\n",
       "Q     77\n",
       "Name: Embarked, dtype: int64"
      ]
     },
     "execution_count": 164,
     "metadata": {},
     "output_type": "execute_result"
    }
   ],
   "source": [
    "train_data[\"Survived\"].value_counts()\n",
    "train_data[\"Pclass\"].value_counts()\n",
    "train_data[\"Sex\"].value_counts()\n",
    "train_data[\"Embarked\"].value_counts()\n"
   ]
  },
  {
   "cell_type": "code",
   "execution_count": 138,
   "metadata": {},
   "outputs": [],
   "source": [
    "from sklearn.base import BaseEstimator,TransformerMixin\n",
    "\n",
    "class DataFrameSelector(BaseEstimator,TransformerMixin):\n",
    "    def __init__(self,attribute_names):\n",
    "        self.attribute_names = attribute_names\n",
    "    def fit(self, X,y = None):\n",
    "        return self\n",
    "    def transform(self,X):\n",
    "        return X[self.attribute_names]\n",
    "        "
   ]
  },
  {
   "cell_type": "code",
   "execution_count": 150,
   "metadata": {},
   "outputs": [],
   "source": [
    "from sklearn.pipeline import Pipeline\n",
    "from sklearn.impute import SimpleImputer\n",
    "\n",
    "num_pipeline = Pipeline([\n",
    "    (\"selec_numeric\",DataFrameSelector([\"Age\",\"SibSp\",\"Parch\",\"Fare\"])),\n",
    "    (\"imputer\", SimpleImputer(strategy = \"median\"))\n",
    "])"
   ]
  },
  {
   "cell_type": "code",
   "execution_count": 151,
   "metadata": {},
   "outputs": [
    {
     "data": {
      "text/plain": [
       "array([[22.    ,  1.    ,  0.    ,  7.25  ],\n",
       "       [38.    ,  1.    ,  0.    , 71.2833],\n",
       "       [26.    ,  0.    ,  0.    ,  7.925 ],\n",
       "       ...,\n",
       "       [28.    ,  1.    ,  2.    , 23.45  ],\n",
       "       [26.    ,  0.    ,  0.    , 30.    ],\n",
       "       [32.    ,  0.    ,  0.    ,  7.75  ]])"
      ]
     },
     "execution_count": 151,
     "metadata": {},
     "output_type": "execute_result"
    }
   ],
   "source": [
    "num_pipeline.fit_transform(train_data)"
   ]
  },
  {
   "cell_type": "code",
   "execution_count": 170,
   "metadata": {},
   "outputs": [],
   "source": [
    "# Now we need to handle the string information from the dataset\n",
    "class MostFrequentImputer(BaseEstimator, TransformerMixin):\n",
    "    def fit(self,X, y = None):\n",
    "        self.most_frequent_ = pd.Series([X[c].value_counts().index[0] for c in X],\n",
    "                                       index = X.columns)\n",
    "        return self\n",
    "    def transform(self,X, y = None):\n",
    "        return X.fillna(self.most_frequent_)"
   ]
  },
  {
   "cell_type": "code",
   "execution_count": 171,
   "metadata": {},
   "outputs": [],
   "source": [
    "from sklearn.preprocessing import OrdinalEncoder\n",
    "from sklearn.preprocessing import OneHotEncoder"
   ]
  },
  {
   "cell_type": "code",
   "execution_count": 172,
   "metadata": {},
   "outputs": [],
   "source": [
    "cat_pipeline = Pipeline([\n",
    "        (\"select_cat\", DataFrameSelector([\"Pclass\", \"Sex\", \"Embarked\"])),\n",
    "        (\"imputer\", MostFrequentImputer()),\n",
    "        (\"cat_encoder\", OneHotEncoder(sparse=False)),\n",
    "    ])"
   ]
  },
  {
   "cell_type": "code",
   "execution_count": 173,
   "metadata": {},
   "outputs": [
    {
     "data": {
      "text/plain": [
       "array([[0., 0., 1., ..., 0., 0., 1.],\n",
       "       [1., 0., 0., ..., 1., 0., 0.],\n",
       "       [0., 0., 1., ..., 0., 0., 1.],\n",
       "       ...,\n",
       "       [0., 0., 1., ..., 0., 0., 1.],\n",
       "       [1., 0., 0., ..., 1., 0., 0.],\n",
       "       [0., 0., 1., ..., 0., 1., 0.]])"
      ]
     },
     "execution_count": 173,
     "metadata": {},
     "output_type": "execute_result"
    }
   ],
   "source": [
    "cat_pipeline.fit_transform(train_data)"
   ]
  },
  {
   "cell_type": "code",
   "execution_count": 174,
   "metadata": {},
   "outputs": [],
   "source": [
    "#now let try to combine all the numerical and categorical pipelines\n",
    "from sklearn.pipeline import FeatureUnion\n",
    "preprocess_pipeline = FeatureUnion(transformer_list = [\n",
    "    (\"num_pipeline\",num_pipeline),\n",
    "    (\"cat_pipeline\",cat_pipeline)\n",
    "])"
   ]
  },
  {
   "cell_type": "code",
   "execution_count": 175,
   "metadata": {},
   "outputs": [],
   "source": [
    "X_train = preprocess_pipeline.fit_transform(train_data)"
   ]
  },
  {
   "cell_type": "code",
   "execution_count": 176,
   "metadata": {},
   "outputs": [
    {
     "data": {
      "text/plain": [
       "array([[22.,  1.,  0., ...,  0.,  0.,  1.],\n",
       "       [38.,  1.,  0., ...,  1.,  0.,  0.],\n",
       "       [26.,  0.,  0., ...,  0.,  0.,  1.],\n",
       "       ...,\n",
       "       [28.,  1.,  2., ...,  0.,  0.,  1.],\n",
       "       [26.,  0.,  0., ...,  1.,  0.,  0.],\n",
       "       [32.,  0.,  0., ...,  0.,  1.,  0.]])"
      ]
     },
     "execution_count": 176,
     "metadata": {},
     "output_type": "execute_result"
    }
   ],
   "source": [
    "X_train"
   ]
  },
  {
   "cell_type": "markdown",
   "metadata": {},
   "source": [
    "# After preprocessing our data into num and cat\n",
    "# now we can you SVC to train our model with \n",
    "# the data we observed from above"
   ]
  },
  {
   "cell_type": "code",
   "execution_count": 195,
   "metadata": {},
   "outputs": [
    {
     "data": {
      "text/plain": [
       "SVC(C=1.0, cache_size=200, class_weight=None, coef0=0.0,\n",
       "  decision_function_shape='ovr', degree=3, gamma='auto', kernel='rbf',\n",
       "  max_iter=-1, probability=False, random_state=None, shrinking=True,\n",
       "  tol=0.001, verbose=False)"
      ]
     },
     "execution_count": 195,
     "metadata": {},
     "output_type": "execute_result"
    }
   ],
   "source": [
    "y_train = train_data[\"Survived\"]\n",
    "from sklearn.svm import SVC\n",
    "\n",
    "svm_clf = SVC(gamma = 'auto')\n",
    "svm_clf.fit(X_train,y_train)\n"
   ]
  },
  {
   "cell_type": "code",
   "execution_count": 196,
   "metadata": {},
   "outputs": [],
   "source": [
    "X_test = preprocess_pipeline.transform(test_data)\n",
    "y_pred = svm_clf.predict(X_test)\n"
   ]
  },
  {
   "cell_type": "code",
   "execution_count": 199,
   "metadata": {},
   "outputs": [],
   "source": [
    "from sklearn.model_selection import cross_val_score\n",
    "\n",
    "svm_scores = cross_val_score(svm_clf,X_train,train_labels,cv = 10)"
   ]
  },
  {
   "cell_type": "code",
   "execution_count": 201,
   "metadata": {},
   "outputs": [
    {
     "data": {
      "text/plain": [
       "0.7365250822835092"
      ]
     },
     "execution_count": 201,
     "metadata": {},
     "output_type": "execute_result"
    }
   ],
   "source": [
    "svm_scores.mean()"
   ]
  },
  {
   "cell_type": "code",
   "execution_count": 203,
   "metadata": {},
   "outputs": [
    {
     "data": {
      "text/plain": [
       "RandomForestClassifier(bootstrap=True, class_weight=None, criterion='gini',\n",
       "            max_depth=None, max_features='auto', max_leaf_nodes=None,\n",
       "            min_impurity_decrease=0.0, min_impurity_split=None,\n",
       "            min_samples_leaf=1, min_samples_split=2,\n",
       "            min_weight_fraction_leaf=0.0, n_estimators=100, n_jobs=None,\n",
       "            oob_score=False, random_state=42, verbose=0, warm_start=False)"
      ]
     },
     "execution_count": 203,
     "metadata": {},
     "output_type": "execute_result"
    }
   ],
   "source": [
    "from sklearn.ensemble import RandomForestClassifier\n",
    "\n",
    "forest_clf = RandomForestClassifier(n_estimators = 100, random_state = 42)\n",
    "forest_clf.fit(X_train,y_train)"
   ]
  },
  {
   "cell_type": "code",
   "execution_count": 204,
   "metadata": {},
   "outputs": [],
   "source": [
    "forest_scores =  cross_val_score(forest_clf,X_train,train_labels,cv = 10)"
   ]
  },
  {
   "cell_type": "code",
   "execution_count": 205,
   "metadata": {},
   "outputs": [
    {
     "data": {
      "text/plain": [
       "0.8149526160481217"
      ]
     },
     "execution_count": 205,
     "metadata": {},
     "output_type": "execute_result"
    }
   ],
   "source": [
    "forest_scores.mean()"
   ]
  },
  {
   "cell_type": "code",
   "execution_count": 206,
   "metadata": {},
   "outputs": [
    {
     "data": {
      "image/png": "[encoded data removed]",
      "text/plain": [
       "<Figure size 576x288 with 1 Axes>"
      ]
     },
     "metadata": {
      "needs_background": "light"
     },
     "output_type": "display_data"
    }
   ],
   "source": [
    "#visualize by boxplot\n",
    "plt.figure(figsize=(8,4))\n",
    "plt.plot([1]*10, svm_scores,\".\")\n",
    "plt.plot([2]*10, forest_scores,\".\")\n",
    "plt.boxplot([svm_scores,forest_scores], labels =(\"SVM\",\"Random Forest\"))\n",
    "plt.ylabel(\"Accuracy\", fontsize = 14)\n",
    "plt.show()"
   ]
  },
  {
   "cell_type": "code",
   "execution_count": 214,
   "metadata": {},
   "outputs": [
    {
     "data": {
      "text/html": [
       "<div>\n",
       "<style scoped>\n",
       "    .dataframe tbody tr th:only-of-type {\n",
       "        vertical-align: middle;\n",
       "    }\n",
       "\n",
       "    .dataframe tbody tr th {\n",
       "        vertical-align: top;\n",
       "    }\n",
       "\n",
       "    .dataframe thead th {\n",
       "        text-align: right;\n",
       "    }\n",
       "</style>\n",
       "<table border=\"1\" class=\"dataframe\">\n",
       "  <thead>\n",
       "    <tr style=\"text-align: right;\">\n",
       "      <th></th>\n",
       "      <th>Survived</th>\n",
       "    </tr>\n",
       "    <tr>\n",
       "      <th>AgeBucket</th>\n",
       "      <th></th>\n",
       "    </tr>\n",
       "  </thead>\n",
       "  <tbody>\n",
       "    <tr>\n",
       "      <th>0.0</th>\n",
       "      <td>0.576923</td>\n",
       "    </tr>\n",
       "    <tr>\n",
       "      <th>15.0</th>\n",
       "      <td>0.362745</td>\n",
       "    </tr>\n",
       "    <tr>\n",
       "      <th>30.0</th>\n",
       "      <td>0.423256</td>\n",
       "    </tr>\n",
       "    <tr>\n",
       "      <th>45.0</th>\n",
       "      <td>0.404494</td>\n",
       "    </tr>\n",
       "    <tr>\n",
       "      <th>60.0</th>\n",
       "      <td>0.240000</td>\n",
       "    </tr>\n",
       "    <tr>\n",
       "      <th>75.0</th>\n",
       "      <td>1.000000</td>\n",
       "    </tr>\n",
       "  </tbody>\n",
       "</table>\n",
       "</div>"
      ],
      "text/plain": [
       "           Survived\n",
       "AgeBucket          \n",
       "0.0        0.576923\n",
       "15.0       0.362745\n",
       "30.0       0.423256\n",
       "45.0       0.404494\n",
       "60.0       0.240000\n",
       "75.0       1.000000"
      ]
     },
     "execution_count": 214,
     "metadata": {},
     "output_type": "execute_result"
    }
   ],
   "source": [
    "train_data[\"AgeBucket\"]=  train_data[\"Age\"] //  15*15\n",
    "train_data[[\"AgeBucket\",\"Survived\"]].groupby(['AgeBucket']).mean()\n",
    "\n"
   ]
  },
  {
   "cell_type": "code",
   "execution_count": 217,
   "metadata": {},
   "outputs": [
    {
     "data": {
      "text/html": [
       "<div>\n",
       "<style scoped>\n",
       "    .dataframe tbody tr th:only-of-type {\n",
       "        vertical-align: middle;\n",
       "    }\n",
       "\n",
       "    .dataframe tbody tr th {\n",
       "        vertical-align: top;\n",
       "    }\n",
       "\n",
       "    .dataframe thead th {\n",
       "        text-align: right;\n",
       "    }\n",
       "</style>\n",
       "<table border=\"1\" class=\"dataframe\">\n",
       "  <thead>\n",
       "    <tr style=\"text-align: right;\">\n",
       "      <th></th>\n",
       "      <th>Survived</th>\n",
       "    </tr>\n",
       "    <tr>\n",
       "      <th>RelativesOnboard</th>\n",
       "      <th></th>\n",
       "    </tr>\n",
       "  </thead>\n",
       "  <tbody>\n",
       "    <tr>\n",
       "      <th>0</th>\n",
       "      <td>0.303538</td>\n",
       "    </tr>\n",
       "    <tr>\n",
       "      <th>1</th>\n",
       "      <td>0.552795</td>\n",
       "    </tr>\n",
       "    <tr>\n",
       "      <th>2</th>\n",
       "      <td>0.578431</td>\n",
       "    </tr>\n",
       "    <tr>\n",
       "      <th>3</th>\n",
       "      <td>0.724138</td>\n",
       "    </tr>\n",
       "    <tr>\n",
       "      <th>4</th>\n",
       "      <td>0.200000</td>\n",
       "    </tr>\n",
       "    <tr>\n",
       "      <th>5</th>\n",
       "      <td>0.136364</td>\n",
       "    </tr>\n",
       "    <tr>\n",
       "      <th>6</th>\n",
       "      <td>0.333333</td>\n",
       "    </tr>\n",
       "    <tr>\n",
       "      <th>7</th>\n",
       "      <td>0.000000</td>\n",
       "    </tr>\n",
       "    <tr>\n",
       "      <th>10</th>\n",
       "      <td>0.000000</td>\n",
       "    </tr>\n",
       "  </tbody>\n",
       "</table>\n",
       "</div>"
      ],
      "text/plain": [
       "                  Survived\n",
       "RelativesOnboard          \n",
       "0                 0.303538\n",
       "1                 0.552795\n",
       "2                 0.578431\n",
       "3                 0.724138\n",
       "4                 0.200000\n",
       "5                 0.136364\n",
       "6                 0.333333\n",
       "7                 0.000000\n",
       "10                0.000000"
      ]
     },
     "execution_count": 217,
     "metadata": {},
     "output_type": "execute_result"
    }
   ],
   "source": [
    "train_data[\"RelativesOnboard\"] = train_data[\"SibSp\"] + train_data[\"Parch\"]\n",
    "train_data[[\"RelativesOnboard\",\"Survived\"]].groupby(['RelativesOnboard']).mean()"
   ]
  },
  {
   "cell_type": "markdown",
   "metadata": {},
   "source": [
    "# Excersice 4: Spam Classifier"
   ]
  },
  {
   "cell_type": "code",
   "execution_count": 14,
   "metadata": {},
   "outputs": [],
   "source": [
    "#Build a spam classifier (a more challenging exercise):\n",
    "#Download examples of spam and ham from Apache\n",
    "#SpamAssassin’s public datasets\n",
    "\n",
    "import os\n",
    "import tarfile\n",
    "from six.moves import urllib\n",
    "\n",
    "DOWNLOAD_ROOT = \"http://spamassassin.apache.org/old/publiccorpus/\"\n",
    "HAM_URL       = DOWNLOAD_ROOT + \"20030228_easy_ham.tar.bz2\"\n",
    "SPAM_URL      = DOWNLOAD_ROOT + \"20030228_spam.tar.bz2\"\n",
    "SPAM_PATH     = os.path.join(\"datasets\",\"spam\")\n",
    "#Unzip the datasets and familiarize yourself with the data format\n",
    "def fetch_spam_data(spam_url = SPAM_URL, spam_path =SPAM_PATH):\n",
    "    if not os.path.isdir(spam_path):\n",
    "        os.makedirs(spam_path)\n",
    "    for filename,url in ((\"ham.tar.bz2\",HAM_URL),(\"spam.tar.bz2\",SPAM_URL)):\n",
    "        path = os.path.join(spam_path,filename)\n",
    "        if not os.path.isfile(path):\n",
    "            urllib.request.urlretrieve(url,path)\n",
    "        tar_bz2_file = tarfile.open(path)\n",
    "        tar_bz2_file.extractall(path = SPAM_PATH)\n",
    "        tar_bz2_file.close()"
   ]
  },
  {
   "cell_type": "code",
   "execution_count": 15,
   "metadata": {},
   "outputs": [],
   "source": [
    "fetch_spam_data()"
   ]
  },
  {
   "cell_type": "code",
   "execution_count": 16,
   "metadata": {},
   "outputs": [],
   "source": [
    "HAM_DIR  = os.path.join(SPAM_PATH,\"easy_ham\")\n",
    "SPAM_DIR = os.path.join(SPAM_PATH,\"spam\")\n",
    "\n",
    "ham_filenames  = [name for name in sorted(os.listdir(HAM_DIR)) if len(name) > 20]\n",
    "spam_filenames = [name for name in sorted(os.listdir(SPAM_DIR)) if len(name) > 20]"
   ]
  },
  {
   "cell_type": "code",
   "execution_count": 17,
   "metadata": {},
   "outputs": [
    {
     "data": {
      "text/plain": [
       "500"
      ]
     },
     "execution_count": 17,
     "metadata": {},
     "output_type": "execute_result"
    }
   ],
   "source": [
    "len(spam_filenames)"
   ]
  },
  {
   "cell_type": "code",
   "execution_count": 18,
   "metadata": {},
   "outputs": [
    {
     "data": {
      "text/plain": [
       "2500"
      ]
     },
     "execution_count": 18,
     "metadata": {},
     "output_type": "execute_result"
    }
   ],
   "source": [
    "len(ham_filenames)"
   ]
  },
  {
   "cell_type": "raw",
   "metadata": {},
   "source": [
    "we can use python's email module to parse these emails"
   ]
  },
  {
   "cell_type": "code",
   "execution_count": 19,
   "metadata": {},
   "outputs": [],
   "source": [
    "import email\n",
    "import email.policy\n",
    "\n",
    "def load_email(is_spam,filename,spam_path = SPAM_PATH):\n",
    "    directory = \"spam\" if is_spam else \"easy_ham\"\n",
    "    with open(os.path.join(spam_path, directory, filename), \"rb\") as f:\n",
    "        return email.parser.BytesParser(policy = email.policy.default).parse(f)"
   ]
  },
  {
   "cell_type": "code",
   "execution_count": 20,
   "metadata": {},
   "outputs": [],
   "source": [
    "ham_emails  = [load_email(is_spam = False, filename =  name) for name in ham_filenames]\n",
    "spam_emails = [load_email(is_spam = True,  filename = name) for name in  spam_filenames]"
   ]
  },
  {
   "cell_type": "code",
   "execution_count": 32,
   "metadata": {},
   "outputs": [
    {
     "name": "stdout",
     "output_type": "stream",
     "text": [
      "Martin A posted:\n",
      "Tassos Papadopoulos, the Greek sculptor behind the plan, judged that the\n",
      " limestone of Mount Kerdylio, 70 miles east of Salonika and not far from the\n",
      " Mount Athos monastic community, was ideal for the patriotic sculpture. \n",
      " \n",
      " As well as Alexander's granite features, 240 ft high and 170 ft wide, a\n",
      " museum, a restored amphitheatre and car park for admiring crowds are\n",
      "planned\n",
      "---------------------\n",
      "So is this mountain limestone or granite?\n",
      "If it's limestone, it'll weather pretty fast.\n",
      "\n",
      "------------------------ Yahoo! Groups Sponsor ---------------------~-->\n",
      "4 DVDs Free +s&p Join Now\n",
      "http://us.click.yahoo.com/pt6YBB/NXiEAA/mG3HAA/7gSolB/TM\n",
      "---------------------------------------------------------------------~->\n",
      "\n",
      "To unsubscribe from this group, send an email to:\n",
      "forteana-unsubscribe@egroups.com\n",
      "\n",
      " \n",
      "\n",
      "Your use of Yahoo! Groups is subject to http://docs.yahoo.com/info/terms/\n"
     ]
    }
   ],
   "source": [
    "#Let check the content of a hamful email and spam email\n",
    "print(ham_emails[1].get_content().strip()) # can als"
   ]
  },
  {
   "cell_type": "code",
   "execution_count": 36,
   "metadata": {},
   "outputs": [
    {
     "name": "stdout",
     "output_type": "stream",
     "text": [
      "I thought you might like these:\n",
      "1) Slim Down - Guaranteed to lose 10-12 lbs in 30 days\n",
      "http://www.freeyankee.com/cgi/fy2/to.cgi?l=822slim1\n",
      "\n",
      "2) Fight The Risk of Cancer! \n",
      "http://www.freeyankee.com/cgi/fy2/to.cgi?l=822nic1 \n",
      "\n",
      "3) Get the Child Support You Deserve - Free Legal Advice \n",
      "http://www.freeyankee.com/cgi/fy2/to.cgi?l=822ppl1\n",
      "\n",
      "Offer Manager\n",
      "Daily-Deals\n",
      "\n",
      "\n",
      "\n",
      "\n",
      "\n",
      "\n",
      "\n",
      "\n",
      "If you wish to leave this list please use the link below.\n",
      "http://www.qves.com/trim/?social@linux.ie%7C29%7C134077\n",
      "\n",
      "\n",
      "-- \n",
      "Irish Linux Users' Group Social Events: social@linux.ie\n",
      "http://www.linux.ie/mailman/listinfo/social for (un)subscription information.\n",
      "List maintainer: listmaster@linux.ie\n"
     ]
    }
   ],
   "source": [
    "print(spam_emails[4].get_content().strip())"
   ]
  },
  {
   "cell_type": "code",
   "execution_count": 61,
   "metadata": {},
   "outputs": [],
   "source": [
    "#Get email structure\n",
    "def get_email_structure(email):\n",
    "    if isinstance(email,str):\n",
    "        return email\n",
    "    payload = email.get_payload()\n",
    "    if isinstance(payload , list):\n",
    "        return \"multipart({})\".format(\",\".join([\n",
    "            get_email_structure(sub_email)\n",
    "            for sub_email in payload\n",
    "        ]))\n",
    "    else: \n",
    "        return email.get_content_type()"
   ]
  },
  {
   "cell_type": "code",
   "execution_count": 59,
   "metadata": {},
   "outputs": [],
   "source": [
    "from collections import Counter\n",
    "\n",
    "def structure_counter(emails):\n",
    "    structures = Counter()\n",
    "    for email in emails:\n",
    "        structure = get_email_structure(email)\n",
    "        structures[structure] += 1\n",
    "    return structures"
   ]
  },
  {
   "cell_type": "code",
   "execution_count": 62,
   "metadata": {},
   "outputs": [
    {
     "data": {
      "text/plain": [
       "[('text/plain', 2408),\n",
       " ('multipart(text/plain,application/pgp-signature)', 66),\n",
       " ('multipart(text/plain,text/html)', 8),\n",
       " ('multipart(text/plain,text/plain)', 4),\n",
       " ('multipart(text/plain)', 3),\n",
       " ('multipart(text/plain,application/octet-stream)', 2),\n",
       " ('multipart(text/plain,text/enriched)', 1),\n",
       " ('multipart(text/plain,application/ms-tnef,text/plain)', 1),\n",
       " ('multipart(multipart(text/plain,text/plain,text/plain),application/pgp-signature)',\n",
       "  1),\n",
       " ('multipart(text/plain,video/mng)', 1),\n",
       " ('multipart(text/plain,multipart(text/plain))', 1),\n",
       " ('multipart(text/plain,application/x-pkcs7-signature)', 1),\n",
       " ('multipart(text/plain,multipart(text/plain,text/plain),text/rfc822-headers)',\n",
       "  1),\n",
       " ('multipart(text/plain,multipart(text/plain,text/plain),multipart(multipart(text/plain,application/x-pkcs7-signature)))',\n",
       "  1),\n",
       " ('multipart(text/plain,application/x-java-applet)', 1)]"
      ]
     },
     "execution_count": 62,
     "metadata": {},
     "output_type": "execute_result"
    }
   ],
   "source": [
    "structure_counter(ham_emails).most_common()"
   ]
  },
  {
   "cell_type": "code",
   "execution_count": 63,
   "metadata": {},
   "outputs": [
    {
     "data": {
      "text/plain": [
       "[('text/plain', 218),\n",
       " ('text/html', 183),\n",
       " ('multipart(text/plain,text/html)', 45),\n",
       " ('multipart(text/html)', 20),\n",
       " ('multipart(text/plain)', 19),\n",
       " ('multipart(multipart(text/html))', 5),\n",
       " ('multipart(text/plain,image/jpeg)', 3),\n",
       " ('multipart(text/html,application/octet-stream)', 2),\n",
       " ('multipart(text/plain,application/octet-stream)', 1),\n",
       " ('multipart(text/html,text/plain)', 1),\n",
       " ('multipart(multipart(text/html),application/octet-stream,image/jpeg)', 1),\n",
       " ('multipart(multipart(text/plain,text/html),image/gif)', 1),\n",
       " ('multipart/alternative', 1)]"
      ]
     },
     "execution_count": 63,
     "metadata": {},
     "output_type": "execute_result"
    }
   ],
   "source": [
    "structure_counter(spam_emails).most_common()"
   ]
  },
  {
   "cell_type": "code",
   "execution_count": 64,
   "metadata": {},
   "outputs": [
    {
     "name": "stdout",
     "output_type": "stream",
     "text": [
      "Return-Path : <12a1mailbot1@web.de>\n",
      "Delivered-To : zzzz@localhost.spamassassin.taint.org\n",
      "Received : from localhost (localhost [127.0.0.1])\tby phobos.labs.spamassassin.taint.org (Postfix) with ESMTP id 136B943C32\tfor <zzzz@localhost>; Thu, 22 Aug 2002 08:17:21 -0400 (EDT)\n",
      "Received : from mail.webnote.net [193.120.211.219]\tby localhost with POP3 (fetchmail-5.9.0)\tfor zzzz@localhost (single-drop); Thu, 22 Aug 2002 13:17:21 +0100 (IST)\n",
      "Received : from dd_it7 ([210.97.77.167])\tby webnote.net (8.9.3/8.9.3) with ESMTP id NAA04623\tfor <zzzz@spamassassin.taint.org>; Thu, 22 Aug 2002 13:09:41 +0100\n",
      "From : 12a1mailbot1@web.de\n",
      "Received : from r-smtp.korea.com - 203.122.2.197 by dd_it7  with Microsoft SMTPSVC(5.5.1775.675.6);\t Sat, 24 Aug 2002 09:42:10 +0900\n",
      "To : dcek1a1@netsgo.com\n",
      "Subject : Life Insurance - Why Pay More?\n",
      "Date : Wed, 21 Aug 2002 20:31:57 -1600\n",
      "MIME-Version : 1.0\n",
      "Message-ID : <0103c1042001882DD_IT7@dd_it7>\n",
      "Content-Type : text/html; charset=\"iso-8859-1\"\n",
      "Content-Transfer-Encoding : quoted-printable\n"
     ]
    }
   ],
   "source": [
    "for header,value in spam_emails[0].items():\n",
    "    print(header,\":\",value)"
   ]
  },
  {
   "cell_type": "code",
   "execution_count": 69,
   "metadata": {},
   "outputs": [
    {
     "name": "stdout",
     "output_type": "stream",
     "text": [
      "Life Insurance - Why Pay More?\n",
      "[ILUG] Guaranteed to lose 10-12 lbs in 30 days 10.206\n",
      "Guaranteed to lose 10-12 lbs in 30 days                          11.150\n",
      "Re: Fw: User Name & Password to Membership To 5 Sites zzzz@spamassassin.taint.org pviqg\n",
      "[ILUG-Social] re: Guaranteed to lose 10-12 lbs in 30 days 10.148\n",
      "RE: Your Bank Account Information \n",
      "FORTUNE 500 COMPANY HIRING, AT HOME REPS.\n",
      "Is Your Family Protected?\n",
      "RE: Important Information Concerning Your Bank Account \n",
      "MULTIPLY YOUR CUSTOMER BASE!\n",
      "^^^^^Cell Phone Belt Clips $1.95^^^^^^                           18070\n",
      "wives and girlfriends cheating and whoring around \n",
      "Get the Child Support You Deserve                            11.180\n",
      "FREE Cell Phone + $50 Cash Back!\n",
      "Conference calls/best quality/$.18 per minute!\n",
      "Plans for cable\n",
      "HELP WANTED.  WORK FROM HOME REPS.\n",
      "A CRY FOR HELP\n",
      "ADV: Lowest life insurance rates available!                                                   moode\n",
      "[ILUG] Get the Child Support You Deserve                     10.132\n",
      "[ILUG] BUSINESS\n",
      "Relationship\n",
      "Penile enlargement method - guaranteed !\n",
      "Save 84% on CE Credits\n",
      "The DEBT-$AVER Program              SKYXTGM\n",
      "A CRY FOR HELP\n",
      "Join the Web's Fastest Growing Singles Community                       14.51\n",
      "Mothers you want to fuck\n",
      "Double Your Life Insurance at NO EXTRA COST!...               TCTOOM\n",
      "Re: PROTECT YOUR COMPUTER AGAINST HARMFUL VIRUSES! 21198\n",
      "[ILUG] (no subject)\n",
      "[ILUG] Join the Web's Fastest Growing Singles Community 11.67\n",
      "Give Away FREE CD's - Earn $5K in 30 Days!\n",
      "Shape up for summer now\n",
      "[����] ���� �ߴ� ���� Best 5 & �ڰ��� ���� ��ǳ\n",
      "Re: Your bank account\n",
      "Order your Viagra and weight-loss here 6117kFvc5--9\n",
      "Meet other Singles just like you\n",
      "Have You Dreamed Of Your Own Home Based Business?       eIExvv\n",
      "[ILUG] enter Chinese market\n",
      "enter Chinese market\n",
      "Free big cock in Pussy\n",
      "FORTUNE 500 COMPANY HIRING, AT HOME REPS.\n",
      "Incredible Pictures!!!!!!!!\n",
      "Start Your Private Photo Album Online!                             13.200\n",
      "Attn: SYSTEMWORKS CLEARANCE SALE_ONLY $29.99                         12173\n",
      "ADV: Interest rates slashed! Don't wait!                                                   ccaxc\n",
      "GET IN AT THE TOP!\n",
      "Re: Hi\n",
      "Best Life Insurance, Lowest Cost...           NTICY\n",
      "FORTUNE 500 COMPANY HIRING, AT HOME REPS.\n",
      "Competitive Mortgage Rates\n",
      "TEEN LESBIAN WEBSITE\n",
      "ADV: Extended Auto Warranties Here                                                    undoc\n",
      "Claim a Free $25 Kmart(R) Gift Card!\n",
      "Better Sex for $2.99 until 08/26/2002 !!!!\n",
      "ADV: Lowest life insurance rates available!                                                   hsdpr\n",
      "Life Insurance Quotes Without the Hassle...            JHIWNS\n",
      "Get out of debt quick!                                        4179uKlj5-057SXua1524UHkC5-900-28\n",
      "Market Internet Access - No Investment Needed \n",
      "Re: Instant Quote\n",
      "Cheap Fags\n",
      "zzzz, Is Your web Site Making Money! 2:18:15 PM 8/25/2002\n",
      "Market Internet Access - No Investment Needed \n",
      "re: domain registration savings\n",
      "8 Free Movie Tickets for doing a 2 Minute survey! Any Movie, Any Theater!\n",
      "Fw: PROTECT YOUR COMPUTER,YOU NEED SYSTEMWORKS!DGYWAOG\n",
      "Save now                     \n",
      "Fw: Re: Account For Cum Shots To: zzzz@spamassassin.taint.org OfferID: qxjx\n",
      "$250,000 for only $6.50 per month.                    qkdjtqsscr\n",
      "WebDesignHQ Newsletter\n",
      "future business ����Ѻ�س!\n",
      "[ILUG] Discount Fags\n",
      "Re: Adult Classifieds\n",
      "Low Price Smokes\n",
      "Low Price Tobacco\n",
      "REQUEST FOR MUTUALLY BENEFITTING ENDEAVOUR.\n",
      "** You're -Approved-!\n",
      "Discount Smokes\n",
      "Impaired Risk Case of the Month\n",
      "[ILUG] ilug,Bigger, Fuller Breasts Naturally In Just Weeks\n",
      "investment\n",
      "Low Cost Easy to Use Conferencing\n",
      "Immediate Reply Needed\n",
      "ADV: Internet marketing & communications; earn $100k/year... uleio\n",
      "I'm ready to bare for you!\n",
      "BIZ, .INFO, .COM for only $14.95\n",
      "[scoop] CEVIRI YAZILIMLARI\n",
      "Email Marketing\n",
      "More cash for the business you already write - IMMEDIATELY\n",
      "shop your loan to lenders for the best rate        OTQ\n",
      "Re: Want to go on a date?\n",
      "Want to play poker with other people online.\n",
      "Incredible Pictures!!!!!!!!\n",
      "A must have for \"Gadget\" lovers 7134-4\n",
      "Hosting from ?6.50 per month\n",
      "zzzz,Increase your breast size. 100% safe!\n",
      "Get the Child Support You Deserve                      10.124\n",
      "zzzz,All New! Breast Enhancement\n",
      "Re: Your VIP Pass\n",
      "Take your Marketing to the Next Level\n",
      "MSNBC: Rates Hit 35 year Low 4.75% ...12304\n",
      "ADV: Extended Auto Warranties Here                                                   dhzbj\n",
      "MULTIPLY YOUR CUSTOMER BASE!\n",
      "One Sale - Three Commission Streams\n",
      "Plans for cable\n",
      "60 minute free porn movie\n",
      "ADV: Lowest Rates Available on Term Life - Free Quote                                                   ihsxq\n",
      "- Custom Websites for $399 Complete! (1709D@5)\n",
      "link to my webcam you wanted \n",
      "ADV: Professional Teeth Whitening At Home!                                                   ovcnd\n",
      "Best news yet\n",
      "Free Merchant Account Information                XAXFT\n",
      "FBI & IRS seized goods at 99% off! Police Auctions!\n",
      "HELP WANTED.  WORK FROM HOME REPS.\n",
      "[scoop] Haberdar olun\n",
      "[ILUG] BANK ERROR IN YOUR FAVOR\n",
      "Online Doctors will fill your Viagra Prescription Now!!!                QEEB\n",
      "Let me know what you think!32482\n",
      "Join the Web's Hottest & Fastest Growing Community                     11.70\n",
      "DON'T LET A COMPUTER VIRUS RUIN YOUR DAY!          12879\n",
      "WWW Form Submission\n",
      "Incredible Pictures!!!!!!!!\n",
      "Guaranteed to lose 10-12 lbs in 30 days with Slim Patch                    10.24\n",
      "Mothers you want to fuck\n",
      "Memory loss?\n",
      "zzzz,All New! Breast Enhancement\n",
      "CAREER OPPORTUNITY.  WORK FROM HOME\n",
      "ADV: Promote Your Website!\n",
      "Congratualtions zzzz8969 ! !!\n",
      "MSNBC: Rates Hit 18 year Low 4.75% ...28940\n",
      "Get your own fountain of youth! HGH human growth hormone from 21st Century!17441\n",
      "Save $30k even if you've refi'd           1090\n",
      "Chicago Meeting Site\n",
      "online catalog of articles, adult toys 2009vjtt6-179dML-15\n",
      "\n",
      "The Best Critical Illness Policy on the Market\n",
      "Teach and Grow Rich\n",
      "Find Peace, Harmony, Tranquility, And Happiness Right Now!\n",
      "[ILUG-Social] my webcam is on babe!\n",
      "Iraq Today Daily News - FREE Trial\n",
      "Re: Here is your Free Access\n",
      "Toners and inkjet cartridges for less....               NOAZ\n",
      "WORK FROM HOME.  WE ARE HIRING\n",
      "I just put my webcam on 4u hunnie=)\n",
      "Hey, rates are low. What are you waiting for?\n",
      "Huge natural tits\n",
      "Your Shipment Status\n",
      "New, easy to use web conferencing software\n",
      "Sometimes Less is More...\n",
      "Play a Hilarious Phone Prank\n",
      "Everybody Gets Paid - No Recruiting Needed\n",
      "[ILUG-Social] Everybody Gets Paid - No Recruiting Needed\n",
      "Get your OWN piece of history.\n",
      "[ILUG] IMPORTANT.\n",
      "Attn: NORTON SYSTEMWORKS 2002 CLEARANCE SALE!              VOJTGT\n",
      "YOUR ANTICIPATED ASSISTANT IS REQUIRED.\n",
      "Play a Hilarious Phone Prank\n",
      "(_) Increase Your Sales!!!!\n",
      "FREE HGH - Look 10 Years Younger in 3 Weeks!!!     HMUPRZD\n",
      "Hi,  Low price  inkjet cartridges bvax\n",
      "Internet News Feeds for Executives dfvht\n",
      "Congratulations on Your 6 New Signups\n",
      "FORTUNE 500 COMPANY HIRING, AT HOME REPS.\n",
      "Tell these cam sluts what to do\n",
      "Make your prints beautiful & SAVE BIG!                 OYDQH\n",
      "---> Undervalued Company\n",
      "Look What Sandy is Doing in her DORM!!\n",
      "Attn: How about being a few pounds lighter?OLIBYKN\n",
      "ADV: Interest rates slashed! Don't wait!                                                   xoxun\n",
      "ADV: Lowest life insurance rates available!                                                   pzcby\n",
      "Attn: NORTON SYSTEMWORKS 2002 BLOWOUT!                 QHZHC\n",
      "zzzz,Your HGH Request!\n",
      "Wanna see me get fisted?\n",
      "Up to $1,500.00 Part time                         22311\n",
      "Herbal Viagra 30 day trial....                CRUA\n",
      "Fw: NORTON SYSTEMWORKS 2002 FINAL CLEARANCE SALE!           DJHL\n",
      "ADV: Extended Auto Warranties Here                                                   aanfh\n",
      "Get the money you need while mortgage rates are down.\n",
      "Hottest babes!                                                       4139YAEk3--9\n",
      "How many \"inches\" do you need to satisfy a woman in bed?\n",
      "A better investment than the stock market.\n",
      "Attn: NORTON SYSTEMWORKS CLEARANCE SALE_ONLY $29.99!                  Y\n",
      "Teach and Grow Rich\n",
      "UK's Leading PC Specialist\n",
      "The TBA Doctor Walks the Walk on Diabetes\n",
      "How would you like to create your own DVD library? 4863d-5\n",
      "Take Advantage of Viral Marketing\n",
      "FW: Washington wire\n",
      "Approved Online, Internet, Buy Viagra              SJHFL\n",
      "taint.org\n",
      "New Insurance Product - No Competition\n",
      "[ILUG] STOP THE MLM INSANITY\n",
      "Testing a system, please delete\n",
      "!Gorgeous,Custom Websites - $399 Complete! (4156cumG9-855YQKc5@17)\n",
      "Fw: NORTON SYSTEMWORKS 2002 CLEARANCE SALE!        11058\n",
      "FW: Make Money Fast And Legal! As Seen on TV! 65000$+\n",
      "** You're approved. **\n",
      "Fw: VIRUS PROTECTION IS A MUST, YOU NEED SYSTEMWORKS! CPTJ\n",
      "ADV:  Harvest lots of E-mail addresses quickly !\n",
      "take advantage of this offer                24344\n",
      "you can watch me\n",
      "Place Your LTC Declines with Us\n",
      "you can watch me\n",
      "CyberAge Dating - Invitation from Jenny\n",
      "Re: You want sex? 7099ocYT9-261UccU3485gGCz0-11-27\n",
      "Welcome to the concept of RESIDUAL Income!\n",
      "URGENT BUSINESS ASSISTANCE.\n",
      "Z-app the Competition with Roster\n",
      "$14.95 per year for .COM, .BIZ, and .INFO extensions\n",
      "eBay, Be Debt Free by 2003!                      8119\n",
      "<---- FREAK ME ---->\n",
      "Please help Home Entertainment Companies with Survey - Win a DVR!\n",
      "We Dare You to Find a Better Annuity\n",
      "Interest Rates at Forty Yr. Lows\n",
      "Business Proposal.\n",
      "Over $100,000 Per Year Possible On The Net!  No Illegal MLM Junk! Time:11:43:57 PM\n",
      "Seeking Your Partnership\n",
      "Customized Warez CDs\n",
      "[ILUG] assistance needed\n",
      "A marketplace where lenders compete for your business LFHLXHU\n",
      "!Gorgeous,Custom Websites - $349 Complete! (9009zRlD0-486vNhZ47@18)\n",
      "Outstanding Opportunities for \"Premier Producers\"\n",
      "URGENT ASSISTANCE(CONFIDENTIAL)\n",
      "Advance Your Career and Find a Great Job!\n",
      "EIN News - FREE Trial\n",
      "[ILUG-Social] URGENT ASSISTANT NEEDED\n",
      "[ILUG-Social] please kindly get back to me\n",
      "FriendSearch and zzzzason.org Partnership\n",
      "Attn:Targeted email addresses\n",
      "Please help Home Entertainment Companies with Survey - Win a DVR!\n",
      "Behind Every Elite Producer...\n",
      "FW: SHORT TERM BUY RECOMMENDATION\n",
      "[ILUG] please kindly get back to me\n",
      "[ILUG] From the desk of : George Osawa\n",
      "International calls for only 33 cents per minute with no subscription\n",
      "Industry Forum #136\n",
      "We Buy Renewal Commissions\n",
      "NEW TECHNOLOGY - DIGITAL VIDEO RECORDER (Smart IP Technology)\n",
      "Half Price Cigarettes and Tobacco\n",
      "don't proscrastinate...it's only $14.95 per year\n",
      "Half Price Cigarettes and Tobacco\n",
      "[ILUG] �°ӷ~�줽�ǥX��\n",
      "[WM] GREEN CARD CEK�L�S�  KACIRMAYIN\n",
      "LIE`S, MIS-INFORMATION and FRAUD\n",
      "Make Huge Profits on eBay                          951\n",
      "I NEED AN URGENT CAPABLE ASSISTANCE.TEL:+225 05775748\n",
      "The \"Business-Owner Friendly\" Pension Plan\n",
      "Let us find the right mortgage lender for you      AFPE\n",
      "Wall Street's dirty little secret ...\n",
      "Re: SYSTEMWORKS CLEARANCE SALE_LIMITED QUANTITIES_ONLY $29.99 TJ\n",
      "不看會後悔\n",
      "--> DIRECT MARKETING WILL INCREASE SALES           23875\n",
      "What Warren Buffett won't tell ya ...\n",
      "Earn $139,000 a year as a DAY TRADER!\n",
      "NEU IM HANDEL! K1-Ausgabe Nr.66\n",
      "Newsletter Coach'Invest - Septembre 2002\n",
      "Newsletter Coach'Invest - Septembre 2002\n",
      "11th Convergence India 2003 exhibition & conference\n",
      "Wir suchen Erotikdarsteller!\n",
      "Get the Computer Skills you need - Free\n",
      "Get the Computer Skills you need - Free\n",
      "しじみともものコラボレーション\n",
      "iiu.taint.org\n",
      "Term Insurance Is Out\n",
      "MSNBC: Rates Hit 35 year Low 4.75% ...12021\n",
      "[ILUG-Social] urgent assistance\n",
      "[WM] CEVIRI YAZILIMLARI\n",
      "Are you LOSING? The answer would amaze you!\n",
      "[ILUG] Seeking Your Partnership\n",
      "Custom Warez CDs\n",
      "CIGARETTES WHOLESALE!       HYWWZZLZD\n",
      "Pru Life's UL Portfolio Rocks\n",
      "Paperless Publishing is Here and Now\n",
      "re:  SYSTEMWORKS CLEARANCE SALE_ONLY $29.99 0989sqJ-7\n",
      "Did I give you the money yet?          DLRA\n",
      "[ILUG] Do NOT Drop your Life Insurance\n",
      "[SAtalk] **urgent assistance**\n",
      "**urgent assistance**\n",
      "[ILUG] Want to play poker with other people online.\n",
      "University Diplomas\n",
      "Re: This Weekend\n",
      "Your Gateway to Wealth\n",
      ".Message report from your contact page....//ytu855 rkq\n",
      "Re:[1]Save over $70 on this exquisite software suite. 32004\n",
      "Membership Renewal\n",
      "Looking for property in SPAIN?\n",
      "Grow Up And Be A Man!� abm\n",
      "Powerball Results Saturday September 14, 2002 Estimated Jackpot $100 Million\n",
      "Invite: Content Management Summit, Oct. 10th New York City\n",
      "The TBA Doctor Walks the Walk on Diabetes\n",
      "[ILUG] re: popular .BIZ and .COM extensions for only $14.95\n",
      "你準備好了嗎?\n",
      "Poker for money againts real players\n",
      "Information for you\n",
      "Best product for 2002\n",
      "Best product for 2002\n",
      "6.50% Annuity w/4.05% Lifetime Bailout\n",
      "Never pay for porn again, YOUR FREE PAYSITE is here! 6277zwyL0-111bAgY1254IhZJ0-37-27\n",
      "eBay PowerSeller Secrets                         6826\n",
      "[ILUG-Social] Best Replica Goods - Best Prices\n",
      "Have tax problems?\n",
      "Go get em gadgets of 2002 4497VLNz2--9\n",
      "Pics for you\n",
      "[ILUG] Best Replica Goods - Best Prices\n",
      "Low cost quality conference calls\n",
      "免費無限次任打中港長途電話\n",
      "http://www.efi.ie/\n",
      "The Flight to Safety is Upon Us\n",
      "WARNING: Your computer may contain a virus!\n",
      "re:我知道你需要更多機會,一� 來吧!\n",
      "[ILUG] MICHAEL ! ilug\n",
      "[WM] �z�r dileriz\n",
      "NEED TO FIND SOMETHING?\n",
      "Funds Investment\n",
      "3 Cd Package: 300 Million Email Addresses + 1.5 Mil Fax Numbers $99.95\n",
      "Special Affiliate Offers from Amazon.Com!\n",
      "SPS se odrekao Slobodana Milosevica\n",
      "Free Excerpt;  Baby Makers, Loser Choosers, & Welfare Abusers...Images of My America!\n",
      "しじみともものコラボレーション\n",
      "Ou Wei Lighting,Nights Will Be Lightening!\n",
      "Sunfrom lighting 您的满意是我们追求的目标\n",
      "しじみともものコラボレーション\n",
      "しじみともものコラボレーション\n",
      "未承諾広告※灼熱！出会いの広場\n",
      "未承諾広告※灼熱！出会いの広場\n",
      "未承諾広告※灼熱！出会いの広場\n",
      "SPS se odrekao Slobodana Milosevica\n",
      "拾金不昧~~別傻了~~\n",
      "Sexabenteuer gef�llig?\n",
      "-> IN THE NEWS TODAY <----\n",
      "One of a kind Money maker! Try it for free!\n",
      "One of a kind Money maker! Try it for free!\n",
      "One of a kind Money maker! Try it for free!\n",
      "One of a kind Money maker! Try it for free!\n",
      "Yeni s�r�mde\n",
      "Still looking for a house?\n",
      "re:想要致富,你還要等多久\n",
      "fwd:  NORTON SYSTEMWORKS CLEARANCE SALE_ONLY $29.99 7126kyiK0-697yFCQ4277rqZm-24\n",
      "Teach and Grow Rich\n",
      "May I have a moment of your Time PLEASE\n",
      "[ILUG] Here is the information you requested\n",
      "zzzz,Hello\n",
      "Friend, Copy ANY DVD or Playstation Game with this software......\n",
      "Best Long Distance On the Net - 3.9 Cents With No Monthly Fees\n",
      "[ILUG] ASSISTANCE\n",
      "Don't get caught by rising interest rates.\n",
      "New Stock Pick: BBAN - Last Pick UP 309%.......................................... gsg\n",
      "Membership Status Notification\n",
      "you don't satisfy me               FGTPRIL\n",
      "fwd:  NORTON SYSTEMWORKS CLEARANCE SALE!\n",
      "The Best Just Got Better\n",
      "Get on the Bus.. gbvzzzz\n",
      "Re: zzzz@spamassassin.taint.org\n",
      "Introducing HGH: The Most Powerful Anti-Obesity Drug Ever\n",
      "Re: Super CHARGE your desktop or laptop today!     17639\n",
      "FREE WebBook Publishing Software - Download NOW!\n",
      "[ILUG-Social] Poker for money againts real players\n",
      "[ILUG-Social] HELLO\n",
      "English Well for you?\n",
      "[ILUG] HELLO\n",
      "[ILUG] AWARD NOTIFICATION\n",
      "Last time you spent $25 did u make $100,000,s? Well this time you will. wju\n",
      "Introducing Chase Platinum for Students with a 0% Introductory APR\n",
      "Friend,Instantly Copy ANY DVD or Playstation Game with this software......\n",
      "Impaired Risk Case of the Month\n",
      "A revolution in the PC world has arrived.          RSIRTR\n",
      "fwd:  SYSTEMWORKS CLEARANCE SALE_ONLY $29.99\n",
      "Toners and inkjet cartridges for less....          BSJMCOIK\n",
      "Expand Your business with our Money!\n",
      "ADV: Extended Auto Warranties Here hvgxs\n",
      "Never pay eBay listing fees again!\n",
      "PROTECT YOUR INFORMATION AND YOUR COMPUTER\n",
      "found a secret link   ADV\n",
      "Slim Factors - A totally new approach to weight loss\n",
      "Hgh: safe and effective release of your own growth hormone!30543\n",
      "[ILUG] Re: This is NO JOKE! Speed up your CPU for under $30!\n",
      "Fwd: Norton makes the BEST software available, now ONLY $29.99! 32053\n",
      "[ILUG-Social] Claim Your $25 Kmart Gift Card\n",
      "Unleash your PC's Multimedia POWER at 70% off retail!\n",
      "Definitely the answer many have been waiting for!!\n",
      "Re:[1]Save over $70 on this exquisite software suite. FTS\n",
      "Shipment Status\n",
      "5% Guaranteed for Eight Years\n",
      "zzzz, do we have your money?\n",
      "FORTUNE 500 WORK AT HOME REPS NEEDED!\n",
      "Email marketing info\n",
      "Collect Your Money! Time:1:30:33 AM\n",
      "Funds Investment\n",
      "Funds Investment\n",
      "Lease Deal\n",
      "[ILUG-Social] Lose 22.5lbs in 3 weeks!\n",
      "FREE Health Insurance Quotes\n",
      ".. kennst mich noch ? nehrb\n",
      "Adv: Mortgage Quotes Fast Online, No Cost\n",
      "Re: Ink Prices Got You Down?              11956\n",
      "50元获得一亿五千万EMAIL地址的机会\n",
      "You have been hand selected... Free Info!\n",
      "One Sale - Three Commission Streams\n",
      "[ILUG] Garden Ornaments | mvcmv\n",
      "This one will make you money  9/20/02 11:34:52 PM\n",
      "Re: PROTECT YOUR COMPUTER,YOU NEED SYSTEMWORKS!    COXR\n",
      "private\n",
      "Not too old to put out!                   26792\n",
      "Re: What a night!\n",
      "Re: girls\n",
      "[WM] greencard 2004 �ekili�ini ka��rmay�n\n",
      "zzzz, do we have your money?\n",
      "If You Dont... Your Competition Will!              7377\n",
      "[ILUG-Social] Low Price Tobacco\n",
      "[ILUG] $4,000/Month with your PC ! NO SPAM ! PLEASE READ !\n",
      "Remeber me?\n",
      "YOUR ACCOUNT HAS BEEN CLOSED!\n",
      "Welcome to OfferClub!\n",
      "Work at Home - $5000 a month\n",
      "Guaranteed Best Mortgage Rate\n",
      "Adv: Mortgage Quotes Fast Online, No Cost\n",
      "Have you planned for your family's future?         ZBM\n",
      "Too Busy Earning A Living To Make Any Money\n",
      "new extensions now only $14.95\n",
      "First Time Generic V*agra under $3 per 50mg\n",
      "[ILUG] Earn 100.000$ in one year working at home\n",
      "Earn 100.000$ in one year working at home\n",
      "Guaranteed Best Mortgage Rate\n",
      "[scoop] ....It is not my fault. .- vwiid\n",
      "You can gain from lowest interest rates in 30 years\n",
      "Your eBay account is about to expire!\n",
      "HOME REPS WANTED-FORTUNE 500 COMP HIRING\n",
      "Garden Ornaments | ppu\n",
      "Save $100's, maybe $1,000's with No Lender's Fees. Click here!\n",
      "ADV: Extended Auto Warranties Here iubrq\n",
      "ANTICAIPTING TO HEARING FROM YOU SOON.\n",
      "*Do Your Butt, Hips And Thighs Embarrass You?*\n",
      "Mortgage Rates Are Down.                    ptjti\n",
      "Dont waste your TIME!!! Why?\n",
      "Are you ready for 10/5/2002?\n",
      "Join & Get 4 DVDs for 49� ea. (+shipping & processing)! Details Inside...\n",
      "Lenders WILL COMPETE for your mortgage             IVX\n",
      "$250,000... as low as $6.50 per month.             edahx\n",
      "NORTON SYSTEMWORKS 2002 CLEARANCE SALE! 6801wbRq4-940mJbj463-19\n",
      "Vacation Time,House need work,Behind in Bills? Refinance while rates are low\n",
      "[ILUG-Social] Need a Credit Card?\n",
      "Boost Your Cell Signal ...10782\n",
      "New Version 7: Uncover the TRUTH about ANYONE!\n",
      "[ILUG] Create a PAYCHECK with your COMPUTER and Enjoy Cheap ISP & shopping Discount.\n",
      "Tired of paying big bucks for cable\n",
      "Congratulations on Your 6 New Signups\n",
      "Get a FREE Bottle of Wine & Tasting Kit\n",
      "Get $100 Free - Beat the House at Royal Vegas!\n",
      "**** American Millionaire Reveals His Secret Source of Wealth On The Internet!!!\n",
      "Make $500 - $2500/Week on Ebay                     3352\n",
      "[ILUG-Social] re: how to register one of the new domain extensions\n",
      "FREE TRIAL - Last Stock pick UP 309%................................................. cqhcp\n",
      "Financial Power You Can Depend On\n",
      "FW: FOCUS ON VALUE\n",
      "I was so scared... my very first DP\n",
      "are you in the mood             XGHTMTGGC\n",
      "FORTUNE 500 WORK AT HOME REPS NEEDED!\n",
      "Holidays are coming?\n",
      "[ILUG] Create a PAYCHECK with your COMPUTER and Enjoy Cheap ISP & shopping Discount.\n",
      "Tell Me Where to Send Your Health Card\n",
      "Account zzzz@spamassassin.taint.org\n",
      "Act Now - Reach Hundreds of Prospects\n",
      "ADV: Extended Auto Warranties Here vfafu\n",
      "BUSINESS PARTNERSHIP(URGENT/CONFIDENTIAL)\n",
      "Partnership.\n",
      "Printer Cartridges as low as $1.21 each!\n",
      "We Build The Internet.  WebXperts.com  (Design / Programming / Consultation)\n",
      "ADV: Are you protected? Free Life Insurance quote oefik\n",
      "Private Label Reseller Hosting  -  Expires 9/30/2002\n",
      "The best possible mortgage\n",
      "Adult: Free Access\n",
      "Got plans tonight?\n",
      "Congratulations! You Get a Free Handheld Organizer!\n",
      "Commissions Too High to Publish\n",
      "The Government Grants You $25,000!\n",
      "Free Shipping on all orders at Blair.com\n",
      "Attn: PROTECT YOURSELF AGAINST HARMFUL VIRUSES! SONLSNAIK\n",
      "Never pay for the goodz again (8SimUgQ)\n",
      "[ILUG] WE NEED YOUR ASSISTANCE TO INVEST IN YOUR COUNTRY\n",
      "一网“惠”天下，一展天下知----2003年4月1日--4\n",
      "$14.95 per year domain names\n",
      "MAKE MONEY GIVING AWAY FREE STUFF!\n",
      "FWD:Direct marketing is working                16889\n",
      "See your Company sales sky rocket.                 4611\n",
      "Hit the Road with CNA\n",
      "$10 a hour for watching e-mmercials! No joke!\n",
      "Make a Fortune On eBay                         24772\n",
      "Faeries\n",
      "[ILUG-Social] prirodu requiremus social sample\n",
      "Finally! Sexy DVDs for FREE. Christmas is Great! NMV\n",
      "Today's Special: Amazing Penetrations No. 17 29264\n",
      "GOV'T GUARANTEED HOME BUSINESS\n",
      "[ILUG] MANUEL OKO\n",
      "[ILUG] please kindly get back to me\n",
      "hurry\n",
      "Do you need a second MORTGAGE?                   22956\n",
      "\n",
      "Earn Your Fortune on eBay!\n",
      "HK Email marking !\n"
     ]
    }
   ],
   "source": [
    "for email in spam_emails: \n",
    "    print(email[\"Subject\"])"
   ]
  },
  {
   "cell_type": "code",
   "execution_count": 70,
   "metadata": {},
   "outputs": [],
   "source": [
    "## Trying to split data into training and test set\n",
    "\n",
    "import numpy as np\n",
    "from sklearn.model_selection import train_test_split"
   ]
  },
  {
   "cell_type": "code",
   "execution_count": 82,
   "metadata": {},
   "outputs": [],
   "source": [
    "X = np.array(ham_emails + spam_emails)"
   ]
  },
  {
   "cell_type": "code",
   "execution_count": 87,
   "metadata": {},
   "outputs": [],
   "source": [
    "y = np.array([0]*len(ham_emails) + [1]*len(spam_emails))"
   ]
  },
  {
   "cell_type": "code",
   "execution_count": 92,
   "metadata": {},
   "outputs": [],
   "source": [
    "X_train , X_test, y_train, y_test = train_test_split(X,y,test_size = 0.2, random_state = 42)"
   ]
  },
  {
   "cell_type": "code",
   "execution_count": 93,
   "metadata": {},
   "outputs": [
    {
     "data": {
      "text/plain": [
       "array([0, 0, 0, ..., 0, 0, 0])"
      ]
     },
     "execution_count": 93,
     "metadata": {},
     "output_type": "execute_result"
    }
   ],
   "source": [
    "y_train"
   ]
  },
  {
   "cell_type": "code",
   "execution_count": 95,
   "metadata": {},
   "outputs": [],
   "source": [
    "# now we got the data for train and test, let convert \n",
    "# them into plain text. remove <a></a> <head></head>\n",
    "# other tag inside the html and leave only the plain text\n",
    "import re\n",
    "from html import unescape\n",
    "\n",
    "def html_to_plain_text(html):\n",
    "    text = re.sub('<head.*?>.*?</head>', '', html, flags=re.M | re.S | re.I)\n",
    "    text = re.sub('<a\\s.*?>', ' HYPERLINK ', text, flags=re.M | re.S | re.I)\n",
    "    text = re.sub('<.*?>', '', text, flags=re.M | re.S)\n",
    "    text = re.sub(r'(\\s*\\n)+', '\\n', text, flags=re.M | re.S)\n",
    "    return unescape(text)"
   ]
  },
  {
   "cell_type": "code",
   "execution_count": 99,
   "metadata": {},
   "outputs": [
    {
     "name": "stdout",
     "output_type": "stream",
     "text": [
      "<HTML><HEAD><TITLE></TITLE><META http-equiv=\"Content-Type\" content=\"text/html; charset=windows-1252\"><STYLE>A:link {TEX-DECORATION: none}A:active {TEXT-DECORATION: none}A:visited {TEXT-DECORATION: none}A:hover {COLOR: #0033ff; TEXT-DECORATION: underline}</STYLE><META content=\"MSHTML 6.00.2713.1100\" name=\"GENERATOR\"></HEAD>\n",
      "<BODY text=\"#000000\" vLink=\"#0033ff\" link=\"#0033ff\" bgColor=\"#CCCC99\"><TABLE borderColor=\"#660000\" cellSpacing=\"0\" cellPadding=\"0\" border=\"0\" width=\"100%\"><TR><TD bgColor=\"#CCCC99\" valign=\"top\" colspan=\"2\" height=\"27\">\n",
      "<font size=\"6\" face=\"Arial, Helvetica, sans-serif\" color=\"#660000\">\n",
      "<b>OTC</b></font></TD></TR><TR><TD height=\"2\" bgcolor=\"#6a694f\">\n",
      "<font size=\"5\" face=\"Times New Roman, Times, serif\" color=\"#FFFFFF\">\n",
      "<b>&nbsp;Newsletter</b></font></TD><TD height=\"2\" bgcolor=\"#6a694f\"><div align=\"right\"><font color=\"#FFFFFF\">\n",
      "<b>Discover Tomorrow's Winners&nbsp;</b></font></div></TD></TR><TR><TD height=\"25\" colspan=\"2\" bgcolor=\"#CCCC99\"><table width=\"100%\" border=\"0\" cellspacing=\"0\" cellpadding=\"5\"><tr><td valign=\"middle\" height=\"2\"><table width=\"300\" border=\"1\" cellspacing=\"0\" cellpadding=\"0\" bordercolor=\"#660000\" bgcolor=\"#EBEDCB\" height=\"5\" align=\"center\"><tr><td valign=\"middle\" height=\"8\"><div align=\"center\">\n",
      "<font face=\"Arial, Helvetica, sans-serif\" color=\"#660000\" size=\"5\">\n",
      "<b>For Immediate Release</b></font></div></td></tr></table></td></tr><tr><td><table width=\"100%\" border=\"1\" cellspacing=\"0\" cellpadding=\"8\" align=\"center\" bgcolor=\"#fafaf5\" bordercolor=\"#660000\"><tr><td bgcolor=\"#fafaf5\" valign=\"top\" height=\"453\">\n",
      "<p><font face=\"Verdana, Arial, Helvetica, sans-serif\" size=\"-1\">\n",
      "<b>Cal-Bay (Stock Symbol: CBYI)</b>\n",
      "<br>Watch for analyst \"Strong Buy Recommendations\" and several advisory newsletters picking CBYI.  CBYI has filed to be traded on the OTCBB, share prices historically INCREASE when companies get listed on this larger trading exchange. CBYI is trading around 25 cents and should skyrocket to $2.66 - $3.25 a share in the near future.<br>\n",
      "<b><i>Put CBYI on your watch list, acquire a position TODAY.</i></b></font></p>\n",
      "<p><font face=\"Verdana, Arial, Helvetica, sans-serif\" size=\"-1\">\n",
      "<b>REASONS TO INVEST IN CBYI</b></font>\n",
      "<li><font face=\"Verdana, Arial, Helvetica, sans-serif\" size=\"-1\">\n",
      "A profitable company and is on track to beat ALL earnings estimates!</font>\n",
      "<li><font face=\"Verdana, Arial, Helvetica, sans-serif\" size=\"-1\">\n",
      "One of the FASTEST growing distributors in environmental &amp; safety equipment instruments.</font>\n",
      "<li><font face=\"Verdana, Arial, Helvetica, sans-serif\" color=\"#000000\" size=\"-1\">\n",
      "Excellent management team, several EXCLUSIVE contracts.  IMPRESSIVE client list including the U.S. Air Force, Anheuser-Busch, Chevron Refining and Mitsubishi Heavy Industries, GE-Energy &amp; Environmental Research.</font>\n",
      "<p><font face=\"Verdana, Arial, Helvetica, sans-serif\" size=\"-1\">\n",
      "<b>RAPIDLY GROWING INDUSTRY</b>\n",
      "<br>Industry revenues exceed $900 million, estimates indicate that there could be as much as $25 billion from \"smell technology\" by the end of 2003.</font></p>\n",
      "<p><font face=\"Verdana, Arial, Helvetica, sans-serif\" size=\"-1\">\n",
      "<b>!!!!!CONGRATULATIONS!!!!!</b><br>Our last recommendation to buy ORBT at $1.29 rallied and is holding steady at $3.50! Congratulations to all our subscribers that took advantage of this recommendation.</font></p><br><br><br><br><br><br><br><br>\n",
      "<p align=\"center\"><font size=\"-1\" face=\"Verdana, Arial, Helvetica, sans-serif\" color=\"#660000\">\n",
      "ALL removes HONORED. Please allow 7 days to be removed and send ALL addresses to:\n",
      "<font color=#ff0000>\n",
      "<a href=\"mailto:goneforgood@btamail.net.cn\">GoneForGood@btamail.net.cn\n",
      "</a></font></p></td></tr></table><table width=\"100%\" border=\"1\" cellspacing=\"0\" cellpadding=\"0\" bordercolor=\"#660000\"><tr><td bgcolor=\"#660000\" height=\"8\">&nbsp;</td></tr><tr><td bgcolor=\"#FFFFCC\"><table width=\"100%\" border=\"0\" cellspacing=\"0\" cellpadding=\"4\"><tr><td>\n",
      "<font size=\"-2\" face=\"Verdana, Arial, Helvetica, sans-serif\">\n",
      "Certain statements contained in this news release may be forward-looking statements within the meaning of The Private Securities Litigation Reform Act of 1995. These statements may be identified by such terms as \"expect\", \"believe\", \"may\", \"will\", and \"intend\" or similar terms. We are NOT a registered investment advisor or a broker dealer. This is NOT an offer to buy or sell securities. No recommendation that the securities of the companies profiled should be purchased, sold or held by individuals or entities that learn of the profiled companies. We were paid $27,000 in cash by a third party to publish this report. Investing in companies profiled is high-risk and use of this information is for reading purposes only. If anyone decides to act as an investor, then it will be that investor's sole risk. Investors are advised NOT to invest without the proper advisement from an attorney or a registered financial broker. Do not rely solely on the information presented, do additional independent research to form your own opinion and decision regarding investing in the profiled companies. Be advised that the purchase of such high-risk securities may result in the loss of your entire investment.  Not intended for recipients or residents of CA,CO,CT,DE,ID, IL,IA,LA,MO,NV,NC,OK,OH,PA,RI,TN,VA,WA,WV,WI. Void where prohibited.  The owners of this publication may already own free trading shares in CBYI and may immediately sell all or a portion of these shares into the open market at or about the time this report is published.  Factual statements are made as of the date stated and are subject to change without notice.\n",
      "<br>Copyright c 2001</font><hr width=\"100%\" noShade size=\"1\"></td></tr></table></td></tr></table></td></tr></table></TD></TR><TR><TD colspan=\"2\" height=\"31\"><table width=\"100%\" border=\"0\" cellspacing=\"0\" cellpadding=\"4\"><tr><td width=\"87%\" height=\"21\"><div align=\"right\">\n",
      "<font color=\"#666666\">&equiv;</font></div></td><td width=\"7%\" height=\"21\">\n",
      "<font face=\"Arial, Helvetica, sans-serif\" size=\"6\" color=\"#FFFFFF\">\n",
      "OTC</font></font></td><td width=\"6%\" height=\"21\"><div align=\"left\">\n",
      "<font color=\"#666666\">&equiv;</font></div></td></tr></table></TD></TR></TABLE></BODY></HTML>\n",
      "\n",
      "***\n"
     ]
    }
   ],
   "source": [
    "html_spam_emails  = [email for email in X_train[y_train == 1]\n",
    "                    if get_email_structure(email) == \"text/html\"]\n",
    "\n",
    "sample_html_spam  = html_spam_emails[7]\n",
    "print(sample_html_spam.get_content().strip())"
   ]
  },
  {
   "cell_type": "code",
   "execution_count": 102,
   "metadata": {},
   "outputs": [
    {
     "name": "stdout",
     "output_type": "stream",
     "text": [
      "\n",
      "OTC\n",
      " Newsletter\n",
      "Discover Tomorrow's Winners \n",
      "For Immediate Release\n",
      "Cal-Bay (Stock Symbol: CBYI)\n",
      "Watch for analyst \"Strong Buy Recommendations\" and several advisory newsletters picking CBYI.  CBYI has filed to be traded on the OTCBB, share prices historically INCREASE when companies get listed on this larger trading exchange. CBYI is trading around 25 cents and should skyrocket to $2.66 - $3.25 a share in the near future.\n",
      "Put CBYI on your watch list, acquire a position TODAY.\n",
      "REASONS TO INVEST IN CBYI\n",
      "A profitable company and is on track to beat ALL earnings estimates!\n",
      "One of the FASTEST growing distributors in environmental & safety equipment instruments.\n",
      "Excellent management team, several EXCLUSIVE contracts.  IMPRESSIVE client list including the U.S. Air Force, Anheuser-Busch, Chevron Refining and Mitsubishi Heavy Industries, GE-Energy & Environmental Research.\n",
      "RAPIDLY GROWING INDUSTRY\n",
      "Industry revenues exceed $900 million, estimates indicate that there could be as much as $25 billion from \"smell technology\" by the end of 2003.\n",
      "!!!!!CONGRATULATIONS!!!!!Our last recommendation to buy ORBT at $1.29 rallied and is holding steady at $3.50! Congratulations to all our subscribers that took advantage of this recommendation.\n",
      "ALL removes HONORED. Please allow 7 days to be removed and send ALL addresses to:\n",
      " HYPERLINK GoneForGood@btamail.net.cn\n",
      " \n",
      "Certain statements contained in this news release may be forward-looking statements within the meaning of The Private Securities Litigation Reform Act of 1995. These statements may be identified by such terms as \"expect\", \"believe\", \"may\", \"will\", and \"intend\" or similar terms. We are NOT a registered investment advisor or a broker dealer. This is NOT an offer to buy or sell securities. No recommendation that the securities of the companies profiled should be purchased, sold or held by individuals or entities that learn of the profiled companies. We were paid $27,000 in cash by a third party to publish this report. Investing in companies profiled is high-risk and use of this information is for reading purposes only. If anyone decides to act as an investor, then it will be that investor's sole risk. Investors are advised NOT to invest without the proper advisement from an attorney or a registered financial broker. Do not rely solely on the information presented, do additional independent research to form your own opinion and decision regarding investing in the profiled companies. Be advised that the purchase of such high-risk securities may result in the loss of your entire investment.  Not intended for recipients or residents of CA,CO,CT,DE,ID, IL,IA,LA,MO,NV,NC,OK,OH,PA,RI,TN,VA,WA,WV,WI. Void where prohibited.  The owners of this publication may already own free trading shares in CBYI and may immediately sell all or a portion of these shares into the open market at or about the time this report is published.  Factual statements are made as of the date stated and are subject to change without notice.\n",
      "Copyright c 2001\n",
      "≡\n",
      "OTC\n",
      "≡\n",
      "***\n",
      "\n"
     ]
    }
   ],
   "source": [
    "#Now just simply remove all of the tags\n",
    "sample_html_spam_no_tag = html_to_plain_text(sample_html_spam.get_content())\n",
    "print(sample_html_spam_no_tag)"
   ]
  },
  {
   "cell_type": "code",
   "execution_count": 107,
   "metadata": {},
   "outputs": [],
   "source": [
    "def email_to_text(email):\n",
    "    html = None\n",
    "    for part in email.walk():\n",
    "        ctype = part.get_content_type()\n",
    "        if not ctype in (\"text/plain\", \"text/html\"):\n",
    "            continue\n",
    "        try:\n",
    "            content = part.get_content()\n",
    "        except: # in case of encoding issues\n",
    "            content = str(part.get_payload())\n",
    "        if ctype == \"text/plain\":\n",
    "            return content\n",
    "        else:\n",
    "            html = content\n",
    "    if html:\n",
    "        return html_to_plain_text(html)"
   ]
  },
  {
   "cell_type": "code",
   "execution_count": 108,
   "metadata": {},
   "outputs": [
    {
     "name": "stdout",
     "output_type": "stream",
     "text": [
      "\n",
      "OTC\n",
      " Newsletter\n",
      "Discover Tomorrow's Winners \n",
      "For Immediate Release\n",
      "Cal-Bay (Stock Symbol: CBYI)\n",
      "Wat ...\n"
     ]
    }
   ],
   "source": [
    "print(email_to_text(sample_html_spam)[:100], \"...\")"
   ]
  },
  {
   "cell_type": "code",
   "execution_count": 111,
   "metadata": {},
   "outputs": [
    {
     "name": "stdout",
     "output_type": "stream",
     "text": [
      "Computations => comput\n",
      "Computation => comput\n",
      "Computing => comput\n",
      "Computed => comput\n",
      "Compute => comput\n",
      "Compulsive => compuls\n"
     ]
    }
   ],
   "source": [
    "import nltk\n",
    "stemmer = nltk.PorterStemmer()\n",
    "for word in (\"Computations\", \"Computation\", \"Computing\", \"Computed\", \"Compute\", \"Compulsive\"):\n",
    "    print(word, \"=>\", stemmer.stem(word))"
   ]
  },
  {
   "cell_type": "code",
   "execution_count": 116,
   "metadata": {},
   "outputs": [
    {
     "name": "stdout",
     "output_type": "stream",
     "text": [
      "Error: replacing URLs requires the urlextract module.\n"
     ]
    }
   ],
   "source": [
    "try:\n",
    "    import urlextract # may require an Internet connection to download root domain names\n",
    "    \n",
    "    url_extractor = urlextract.URLExtract()\n",
    "    print(url_extractor.find_urls(\"Will it detect github.com and https://youtu.be/7Pq-S557XQU?t=3m32s\"))\n",
    "except ImportError:\n",
    "    print(\"Error: replacing URLs requires the urlextract module.\")\n",
    "    url_extractor = None"
   ]
  },
  {
   "cell_type": "code",
   "execution_count": null,
   "metadata": {},
   "outputs": [],
   "source": []
  },
  {
   "cell_type": "code",
   "execution_count": null,
   "metadata": {},
   "outputs": [],
   "source": []
  }
 ],
 "metadata": {
  "kernelspec": {
   "display_name": "Python 3",
   "language": "python",
   "name": "python3"
  },
  "language_info": {
   "codemirror_mode": {
    "name": "ipython",
    "version": 3
   },
   "file_extension": ".py",
   "mimetype": "text/x-python",
   "name": "python",
   "nbconvert_exporter": "python",
   "pygments_lexer": "ipython3",
   "version": "3.7.1"
  }
 },
 "nbformat": 4,
 "nbformat_minor": 2
}
